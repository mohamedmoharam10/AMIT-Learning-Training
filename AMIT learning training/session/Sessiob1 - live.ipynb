{
 "cells": [
  {
   "cell_type": "markdown",
   "id": "89c7849b",
   "metadata": {},
   "source": [
    "- **print(object, end='\\n', sep=' ')**\n",
    "- **Escape Charaters:**\n",
    "    - **`\\n`:**  New Line\n",
    "    - **`\\t`:**  Tab\n",
    "    - **`\\\\`:** Backslash\n",
    "    - **`\\'` :** Single Quote\n",
    "    - **`\\\"` :** Double Quote\n",
    "- **Indentation**"
   ]
  },
  {
   "cell_type": "code",
   "execution_count": null,
   "id": "8364f04c",
   "metadata": {},
   "outputs": [
    {
     "name": "stdout",
     "output_type": "stream",
     "text": [
      "5\n"
     ]
    }
   ],
   "source": [
    "print(5)"
   ]
  },
  {
   "cell_type": "code",
   "execution_count": null,
   "id": "91337f7f",
   "metadata": {},
   "outputs": [
    {
     "name": "stdout",
     "output_type": "stream",
     "text": [
      "AMIT Learning\n"
     ]
    }
   ],
   "source": [
    "print('AMIT Learning')"
   ]
  },
  {
   "cell_type": "code",
   "execution_count": null,
   "id": "209b79e6",
   "metadata": {},
   "outputs": [
    {
     "name": "stdout",
     "output_type": "stream",
     "text": [
      "Ahmed||Ali\n"
     ]
    }
   ],
   "source": [
    "print('Ahmed',  'Ali', sep='||')"
   ]
  },
  {
   "cell_type": "code",
   "execution_count": null,
   "id": "44cf69a9",
   "metadata": {},
   "outputs": [
    {
     "name": "stdout",
     "output_type": "stream",
     "text": [
      "Hello----AI\n",
      "DS\n"
     ]
    }
   ],
   "source": [
    "print('Hello', end='----')\n",
    "\n",
    "\n",
    "\n",
    "print('AI')\n",
    "print('DS')"
   ]
  },
  {
   "cell_type": "code",
   "execution_count": null,
   "id": "92734a8a",
   "metadata": {},
   "outputs": [],
   "source": [
    "print('AHmed', 22)"
   ]
  },
  {
   "cell_type": "code",
   "execution_count": null,
   "id": "696925fb",
   "metadata": {},
   "outputs": [],
   "source": [
    "fname = 'ahmed'\n",
    "age = 22"
   ]
  },
  {
   "cell_type": "code",
   "execution_count": null,
   "id": "48834277",
   "metadata": {},
   "outputs": [
    {
     "name": "stdout",
     "output_type": "stream",
     "text": [
      "ahmed 22\n"
     ]
    }
   ],
   "source": [
    "print(fname, age)"
   ]
  },
  {
   "cell_type": "code",
   "execution_count": null,
   "id": "1dbb7078",
   "metadata": {},
   "outputs": [],
   "source": [
    "x2 = 10"
   ]
  },
  {
   "cell_type": "code",
   "execution_count": null,
   "id": "9019d9c0",
   "metadata": {},
   "outputs": [
    {
     "ename": "SyntaxError",
     "evalue": "invalid syntax (1754750788.py, line 1)",
     "output_type": "error",
     "traceback": [
      "\u001b[1;36m  Cell \u001b[1;32mIn[16], line 1\u001b[1;36m\u001b[0m\n",
      "\u001b[1;33m    x& = 22\u001b[0m\n",
      "\u001b[1;37m       ^\u001b[0m\n",
      "\u001b[1;31mSyntaxError\u001b[0m\u001b[1;31m:\u001b[0m invalid syntax\n"
     ]
    }
   ],
   "source": [
    "x& = 22"
   ]
  },
  {
   "cell_type": "code",
   "execution_count": null,
   "id": "c85d929c",
   "metadata": {},
   "outputs": [],
   "source": [
    "x_ = 25"
   ]
  },
  {
   "cell_type": "code",
   "execution_count": null,
   "id": "95f0ee17",
   "metadata": {},
   "outputs": [],
   "source": [
    "X = 5\n",
    "x = 4"
   ]
  },
  {
   "cell_type": "code",
   "execution_count": null,
   "id": "2f4ffc29",
   "metadata": {},
   "outputs": [
    {
     "name": "stdout",
     "output_type": "stream",
     "text": [
      "5\n",
      "4\n"
     ]
    }
   ],
   "source": [
    "print(X)\n",
    "print(x)"
   ]
  },
  {
   "cell_type": "code",
   "execution_count": null,
   "id": "9a8d56e2",
   "metadata": {},
   "outputs": [],
   "source": []
  },
  {
   "cell_type": "markdown",
   "id": "3f58cb9a",
   "metadata": {},
   "source": [
    "## **Variables**"
   ]
  },
  {
   "cell_type": "code",
   "execution_count": null,
   "id": "bfc31a85",
   "metadata": {},
   "outputs": [],
   "source": []
  },
  {
   "cell_type": "markdown",
   "id": "7b730153",
   "metadata": {},
   "source": [
    "------------------------------------------------------"
   ]
  },
  {
   "cell_type": "markdown",
   "id": "07965e01",
   "metadata": {},
   "source": [
    "## **Datatypes**\n",
    "- **Text Type:** `str`\n",
    "- **Numeric Types:** `int`, `float`\n",
    "- **Boolean Type:** `bool`\n",
    "- **Sequence Types:** `list`, `tuple`, `set`\n",
    "- **Mapping Types:** `dict`\n",
    "\n",
    "`type()`\n"
   ]
  },
  {
   "cell_type": "code",
   "execution_count": null,
   "id": "bd5a75d1",
   "metadata": {},
   "outputs": [],
   "source": [
    "name1 = 'ahmed'\n",
    "name2 = 'omar'\n",
    "name3 = 'ali'"
   ]
  },
  {
   "cell_type": "code",
   "execution_count": null,
   "id": "205cc216",
   "metadata": {},
   "outputs": [],
   "source": [
    "names = ['ahmed', 'ali', 'omar', 'amr']"
   ]
  },
  {
   "cell_type": "code",
   "execution_count": null,
   "id": "95cffb17",
   "metadata": {},
   "outputs": [
    {
     "name": "stdout",
     "output_type": "stream",
     "text": [
      "<class 'str'>\n"
     ]
    }
   ],
   "source": [
    "name = 'ali'\n",
    "print(type(name))"
   ]
  },
  {
   "cell_type": "code",
   "execution_count": null,
   "id": "6d4db4c5",
   "metadata": {},
   "outputs": [
    {
     "name": "stdout",
     "output_type": "stream",
     "text": [
      "<class 'int'>\n"
     ]
    }
   ],
   "source": [
    "age = 25\n",
    "print(type(age))"
   ]
  },
  {
   "cell_type": "code",
   "execution_count": null,
   "id": "d06900a0",
   "metadata": {},
   "outputs": [
    {
     "name": "stdout",
     "output_type": "stream",
     "text": [
      "<class 'float'>\n"
     ]
    }
   ],
   "source": [
    "h = 1.77\n",
    "print(type(h))"
   ]
  },
  {
   "cell_type": "markdown",
   "id": "48af8a78",
   "metadata": {},
   "source": [
    "--------------------------------------------------------------------------------"
   ]
  },
  {
   "cell_type": "markdown",
   "id": "5a75bc92",
   "metadata": {},
   "source": [
    "## **Strings**\n",
    "- **List Functions & Methods**\n",
    "    - `len()`: Returns the length of a string.\n",
    "    - `str()`: Convert an object to a string representation.\n",
    "    - `sorted()`: Sorts characters in a string and returns it as a new string.\n",
    "    - `max()`, `min()`: Return the  maximum or minimum value from a string.\n",
    "    - `.lower(), .upper()`: Convert all characters in a string to lowercase or uppercase, respectively.\n",
    "    - `.capitalize()`: Converts the first character in a string to capital letters.\n",
    "    - `.title()`: Convert the first character in each word in astring to capital letters.\n",
    "    - `.find(substring)`: Returns the lowest index in the string where substring is found. If not found, returns -1.\n",
    "    - `.count()`: Count how many times a substring appears in a string.\n",
    "    - `.replace('substring', 'substring')`: Replace occurrences of one substring with another.\n",
    "    - `.format()`, `f\"{}\"`: Format a string using placeholders and values provided by curly braces."
   ]
  },
  {
   "cell_type": "code",
   "execution_count": null,
   "id": "37118d13",
   "metadata": {},
   "outputs": [
    {
     "name": "stdout",
     "output_type": "stream",
     "text": [
      "<class 'int'> <class 'str'>\n"
     ]
    }
   ],
   "source": [
    "# casting\n",
    "x = 25\n",
    "y = str(x)\n",
    "print(type(x), type(y))"
   ]
  },
  {
   "cell_type": "code",
   "execution_count": null,
   "id": "275dd524",
   "metadata": {},
   "outputs": [],
   "source": [
    "txt = 'Hello in AI and Data Science Diploma at AMIT'\n",
    "txt = \"Hello in AI and Data Science Diploma at AMIT\"\n",
    "txt = \"\"\"Hello in AI and Data Science Diploma at AMIT\"\"\"\n",
    "txt = '''Hello in AI and Data Science Diploma at AMIT'''\n",
    "\n"
   ]
  },
  {
   "cell_type": "code",
   "execution_count": null,
   "id": "474878eb",
   "metadata": {},
   "outputs": [
    {
     "name": "stdout",
     "output_type": "stream",
     "text": [
      "Ahmed's car\n"
     ]
    }
   ],
   "source": [
    "print(\"Ahmed's car\")"
   ]
  },
  {
   "cell_type": "code",
   "execution_count": null,
   "id": "c8315be2",
   "metadata": {},
   "outputs": [
    {
     "name": "stdout",
     "output_type": "stream",
     "text": [
      "Ahmed said \"Hello AI\"\n"
     ]
    }
   ],
   "source": [
    "print('Ahmed said \"Hello AI\"')"
   ]
  },
  {
   "cell_type": "code",
   "execution_count": null,
   "id": "c035345d",
   "metadata": {},
   "outputs": [],
   "source": [
    "par = \"\"\"Hello in AI and Data Science \n",
    "Diploma at \n",
    "AMIT\"\"\""
   ]
  },
  {
   "cell_type": "code",
   "execution_count": null,
   "id": "d056857f",
   "metadata": {},
   "outputs": [
    {
     "data": {
      "text/plain": [
       "'Hello in AI and Data Science Diploma at AMIT'"
      ]
     },
     "metadata": {},
     "output_type": "display_data"
    }
   ],
   "source": [
    "txt"
   ]
  },
  {
   "cell_type": "code",
   "execution_count": null,
   "id": "13a5133f",
   "metadata": {},
   "outputs": [
    {
     "name": "stdout",
     "output_type": "stream",
     "text": [
      "Hello in AI and 25 Diploma at AMIT\n"
     ]
    }
   ],
   "source": [
    "txt = 'Hello in AI and {} Diploma at AMIT'\n",
    "round = 25\n",
    "print(txt.format(round))"
   ]
  },
  {
   "cell_type": "code",
   "execution_count": null,
   "id": "5df61523",
   "metadata": {},
   "outputs": [
    {
     "name": "stdout",
     "output_type": "stream",
     "text": [
      "Hello-in-AI-and-25-Diploma-at-AMIT\n"
     ]
    }
   ],
   "source": [
    "txt = f'Hello-in-AI-and-{round}-Diploma-at-AMIT'\n",
    "print(txt)"
   ]
  },
  {
   "cell_type": "code",
   "execution_count": null,
   "id": "a93c61ba",
   "metadata": {},
   "outputs": [
    {
     "name": "stdout",
     "output_type": "stream",
     "text": [
      "['Hello', 'in', 'AI', 'and', '25', 'Diploma', 'at', 'AMIT']\n"
     ]
    }
   ],
   "source": [
    "print(txt.split('-'))"
   ]
  },
  {
   "cell_type": "code",
   "execution_count": null,
   "id": "f99e2d57",
   "metadata": {},
   "outputs": [
    {
     "name": "stdout",
     "output_type": "stream",
     "text": [
      "Hello||in||AI||and||25||Diploma||at||AMIT\n"
     ]
    }
   ],
   "source": [
    "s = ['Hello', 'in', 'AI', 'and', '25', 'Diploma', 'at', 'AMIT']\n",
    "t = '||'.join(s)\n",
    "print(t)  # Output: Hello in AI and 25 Diploma at AMIT"
   ]
  },
  {
   "cell_type": "code",
   "execution_count": null,
   "id": "a54c2b87",
   "metadata": {},
   "outputs": [
    {
     "name": "stdout",
     "output_type": "stream",
     "text": [
      "Hello in in and at Diploma at AMIT\n"
     ]
    }
   ],
   "source": [
    "print(txt.replace('at', 'in', 2))"
   ]
  },
  {
   "cell_type": "code",
   "execution_count": null,
   "id": "71cea82d",
   "metadata": {},
   "outputs": [
    {
     "name": "stdout",
     "output_type": "stream",
     "text": [
      "Hello in AI and AI Diploma at AMIT\n",
      "HELLO IN AI AND AI DIPLOMA AT AMIT\n",
      "hello in ai and ai diploma at amit\n",
      "Hello in ai and ai diploma at amit\n",
      "Hello In Ai And Ai Diploma At Amit\n",
      "34\n",
      "12\n",
      "2\n",
      "Hello 25 AI and AI Diploma at AMIT\n"
     ]
    }
   ],
   "source": [
    "print(txt)\n",
    "print(txt.upper())\n",
    "print(txt.lower())\n",
    "print(txt.capitalize())\n",
    "print(txt.title())\n",
    "print(len(txt))\n",
    "print(txt.find('a'))\n",
    "print(txt.count('AI'))\n",
    "print(txt.replace('in', '25'))"
   ]
  },
  {
   "cell_type": "markdown",
   "id": "1bcfd9c8",
   "metadata": {},
   "source": [
    "--------------------------------------------------------------------------------"
   ]
  },
  {
   "cell_type": "markdown",
   "id": "ef59c09b",
   "metadata": {},
   "source": [
    "## **Strings**\n",
    "- **String Functions & Methods**\n",
    "    - `len()`: Returns the length of a string.\n",
    "    - `str()`: Convert an object to a string representation.\n",
    "    - `sorted()`: Sorts characters in a string and returns it as a new string.\n",
    "    - `max()`, `min()`: Return the  maximum or minimum value from a string.\n",
    "    - `.lower(), .upper()`: Convert all characters in a string to lowercase or uppercase, respectively.\n",
    "    - `.capitalize()`: Converts the first character in a string to capital letters.\n",
    "    - `.title()`: Convert the first character in each word in astring to capital letters.\n",
    "    - `.find(substring)`: Returns the lowest index in the string where substring is found. If not found, returns -1.\n",
    "    - `.count()`: Count how many times a substring appears in a string.\n",
    "    - `.replace('substring', 'substring')`: Replace occurrences of one substring with another.\n",
    "    - `.format()`, `f\"{}\"`: Format a string using placeholders and values provided by curly braces."
   ]
  },
  {
   "cell_type": "code",
   "execution_count": null,
   "id": "3649b462",
   "metadata": {},
   "outputs": [
    {
     "name": "stdout",
     "output_type": "stream",
     "text": [
      "Hello, world!\n"
     ]
    }
   ],
   "source": [
    "text = \"Hello, World!\"\n",
    "print(text.capitalize())"
   ]
  },
  {
   "cell_type": "code",
   "execution_count": null,
   "id": "8826e53f",
   "metadata": {},
   "outputs": [
    {
     "name": "stdout",
     "output_type": "stream",
     "text": [
      "Hello AMIT  \n"
     ]
    }
   ],
   "source": [
    "s = \"  Hello AMIT  \"\n",
    "print(s.lstrip())"
   ]
  },
  {
   "cell_type": "code",
   "execution_count": null,
   "id": "ad17230b",
   "metadata": {},
   "outputs": [
    {
     "name": "stdout",
     "output_type": "stream",
     "text": [
      "['I', 'love', 'Machine', 'Learning,', 'and', 'I', 'want', 'to', 'be', 'a', 'Machine', 'Learning', 'Engineer']\n"
     ]
    }
   ],
   "source": [
    "s = 'I-love-Machine-Learning,-and-I-want-to-be-a-Machine-Learning-Engineer'\n",
    "words = s.split('-')\n",
    "print(words)"
   ]
  },
  {
   "cell_type": "code",
   "execution_count": null,
   "id": "311f8eb3",
   "metadata": {},
   "outputs": [
    {
     "data": {
      "text/plain": [
       "['I',\n",
       " 'love',\n",
       " 'Machine',\n",
       " 'Learning,',\n",
       " 'and',\n",
       " 'I',\n",
       " 'want',\n",
       " 'to',\n",
       " 'be',\n",
       " 'a',\n",
       " 'Machine',\n",
       " 'Learning',\n",
       " 'Engineer']"
      ]
     },
     "metadata": {},
     "output_type": "display_data"
    }
   ],
   "source": [
    "words"
   ]
  },
  {
   "cell_type": "code",
   "execution_count": null,
   "id": "fbfdd7f6",
   "metadata": {},
   "outputs": [
    {
     "data": {
      "text/plain": [
       "'I love Machine Learning, and I want to be a Machine Learning Engineer'"
      ]
     },
     "metadata": {},
     "output_type": "display_data"
    }
   ],
   "source": [
    "\" \".join(words)"
   ]
  },
  {
   "cell_type": "code",
   "execution_count": null,
   "id": "1afe3a33",
   "metadata": {},
   "outputs": [
    {
     "name": "stdout",
     "output_type": "stream",
     "text": [
      "True\n"
     ]
    }
   ],
   "source": [
    "print(text.startswith('Hello'))"
   ]
  },
  {
   "cell_type": "code",
   "execution_count": null,
   "id": "d3fbdacb",
   "metadata": {},
   "outputs": [
    {
     "name": "stdout",
     "output_type": "stream",
     "text": [
      "Hello Ali, how are you?\n"
     ]
    }
   ],
   "source": [
    "name = 'Ali'\n",
    "msg = f\"Hello {name}, how are you?\"\n",
    "print(msg)"
   ]
  },
  {
   "cell_type": "code",
   "execution_count": null,
   "id": "842ad7e7",
   "metadata": {},
   "outputs": [
    {
     "name": "stdout",
     "output_type": "stream",
     "text": [
      "7\n"
     ]
    }
   ],
   "source": [
    "print(text.find('W'))"
   ]
  },
  {
   "cell_type": "code",
   "execution_count": null,
   "id": "6a33ad7c",
   "metadata": {},
   "outputs": [],
   "source": [
    "text = \"Hello, World!\"\n",
    "print(len(text))"
   ]
  },
  {
   "cell_type": "code",
   "execution_count": null,
   "id": "db971130",
   "metadata": {},
   "outputs": [],
   "source": [
    "num = 123\n",
    "string_num = str(num)\n",
    "print(string_num)\n",
    "print(type(string_num))"
   ]
  },
  {
   "cell_type": "code",
   "execution_count": null,
   "id": "e53d4b0b",
   "metadata": {},
   "outputs": [],
   "source": [
    "text = \"python\"\n",
    "sorted_text = sorted(text)\n",
    "print(sorted_text)"
   ]
  },
  {
   "cell_type": "code",
   "execution_count": null,
   "id": "85b7880d",
   "metadata": {},
   "outputs": [],
   "source": [
    "text = \"abcdef\"\n",
    "print(max(text))\n",
    "print(min(text))"
   ]
  },
  {
   "cell_type": "code",
   "execution_count": null,
   "id": "cf8339e2",
   "metadata": {},
   "outputs": [],
   "source": [
    "text = \"Hello, World!\"\n",
    "print(text.lower())\n",
    "print(text.upper())\n"
   ]
  },
  {
   "cell_type": "code",
   "execution_count": null,
   "id": "b2d7ddaa",
   "metadata": {},
   "outputs": [],
   "source": [
    "text = \"hello, world!\"\n",
    "print(text.capitalize())\n"
   ]
  },
  {
   "cell_type": "code",
   "execution_count": null,
   "id": "5bfa8fb4",
   "metadata": {},
   "outputs": [],
   "source": [
    "text = \"hello world, welcome to python!\"\n",
    "print(text.title())"
   ]
  },
  {
   "cell_type": "code",
   "execution_count": null,
   "id": "b2fc6be3",
   "metadata": {},
   "outputs": [],
   "source": [
    "text = \"hello world\"\n",
    "index = text.find(\"world\")\n",
    "print(index)\n",
    "\n",
    "not_found = text.find(\"python\")\n",
    "print(not_found)\n"
   ]
  },
  {
   "cell_type": "code",
   "execution_count": null,
   "id": "468a6049",
   "metadata": {},
   "outputs": [],
   "source": [
    "text = \"banana\"\n",
    "count = text.count(\"a\")\n",
    "print(count)\n"
   ]
  },
  {
   "cell_type": "code",
   "execution_count": null,
   "id": "f12b1942",
   "metadata": {},
   "outputs": [],
   "source": [
    "text = \"I love apples\"\n",
    "new_text = text.replace(\"apples\", \"bananas\")\n",
    "print(new_text)\n"
   ]
  },
  {
   "cell_type": "code",
   "execution_count": null,
   "id": "920e317c",
   "metadata": {},
   "outputs": [],
   "source": [
    "name = \"Omar\"\n",
    "age = 25\n",
    "formatted_text = \"My name is {} and I am {} years old.\".format(name, age)\n",
    "print(formatted_text)\n"
   ]
  },
  {
   "cell_type": "code",
   "execution_count": null,
   "id": "80491f84",
   "metadata": {},
   "outputs": [],
   "source": [
    "name = \"Ali\"\n",
    "age = 30\n",
    "formatted_text = f\"My name is {name} and I am {age} years old.\"\n",
    "print(formatted_text)\n"
   ]
  },
  {
   "cell_type": "markdown",
   "id": "1996877e",
   "metadata": {},
   "source": [
    "--------------------------------------------------------------------------------"
   ]
  },
  {
   "cell_type": "markdown",
   "id": "79aad40c",
   "metadata": {},
   "source": [
    "## **Numeric Types**\n",
    "- `int` : integer, positive or negative with unlimited length.\n",
    "- `float`: floating point number, can represent fractional numbers.\n",
    "\n",
    "`casting functions`"
   ]
  },
  {
   "cell_type": "code",
   "execution_count": null,
   "id": "590b32b0",
   "metadata": {},
   "outputs": [
    {
     "name": "stdout",
     "output_type": "stream",
     "text": [
      "2.6\n"
     ]
    }
   ],
   "source": [
    "x = 2.616548949\n",
    "print(round(x, 1))"
   ]
  },
  {
   "cell_type": "code",
   "execution_count": null,
   "id": "af8e59ca",
   "metadata": {},
   "outputs": [],
   "source": [
    "x = 5\n",
    "y = -6\n",
    "z = 3.14\n",
    "a = -122.53"
   ]
  },
  {
   "cell_type": "code",
   "execution_count": null,
   "id": "0ce990f8",
   "metadata": {},
   "outputs": [],
   "source": [
    "print(type(x))\n",
    "print(type(y))\n",
    "print(type(z))\n",
    "print(type(a))"
   ]
  },
  {
   "cell_type": "markdown",
   "id": "6009c2e1",
   "metadata": {},
   "source": [
    "---------------------------------"
   ]
  },
  {
   "cell_type": "markdown",
   "id": "df7e8826",
   "metadata": {},
   "source": [
    "## **Operators and Expressions**\n",
    "  - Assignment operators: `=`, `+=`, `-=` etc.\n",
    "  - Arithmetic operators (`+`, `-`, `*`, `/`, `**`, `//`, `%`) work with numeric types, except `+` it can work with strings as well.\n",
    "  - Comparison operators (`==`, `<`, `<=`, `>`, `>=`) work with any data type that supports them (e.g., text vs numbers).\n",
    "  - Logical operators: `&&`, `||` (logical AND, logical OR)."
   ]
  },
  {
   "cell_type": "code",
   "execution_count": null,
   "id": "8f81476b",
   "metadata": {},
   "outputs": [],
   "source": [
    "a = 10\n",
    "a += 5  # Now a is 15\n",
    "a *= 2  # Now a is 30\n",
    "print(a)  # Output: 30"
   ]
  },
  {
   "cell_type": "code",
   "execution_count": null,
   "id": "aa8db67f",
   "metadata": {},
   "outputs": [
    {
     "data": {
      "text/plain": [
       "7"
      ]
     },
     "metadata": {},
     "output_type": "display_data"
    }
   ],
   "source": [
    "x = 5\n",
    "y = 7\n",
    "x\n",
    "y"
   ]
  },
  {
   "cell_type": "code",
   "execution_count": null,
   "id": "440e8aad",
   "metadata": {},
   "outputs": [],
   "source": [
    "x = 15\n",
    "y = 4\n",
    "\n",
    "print(x + y)   \n",
    "print(x - y)   \n",
    "print(x * y)\n",
    "print(x ** y)   \n",
    "print(x / y)  \n",
    "print(x // y)  \n",
    "print(x % y)   \n",
    "\n"
   ]
  },
  {
   "cell_type": "code",
   "execution_count": null,
   "id": "a6fb766d",
   "metadata": {},
   "outputs": [],
   "source": [
    "a = 10\n",
    "b = 5\n",
    "\n",
    "print(a == b)\n",
    "print(a != b)\n",
    "print(a > b)\n",
    "print(a <= b)\n"
   ]
  },
  {
   "cell_type": "code",
   "execution_count": null,
   "id": "f88370d2",
   "metadata": {},
   "outputs": [],
   "source": [
    "x = 10\n",
    "y = 20\n",
    "\n",
    "print(x > 5 and y < 30)\n",
    "print(x < 5 or y > 15)\n",
    "print(not (x == y))\n"
   ]
  },
  {
   "cell_type": "code",
   "execution_count": null,
   "id": "5070df71",
   "metadata": {},
   "outputs": [
    {
     "name": "stdout",
     "output_type": "stream",
     "text": [
      "25\n",
      "25\n"
     ]
    }
   ],
   "source": [
    "x = 5\n",
    "print(x ** 2)\n",
    "print(pow(x, 2))"
   ]
  },
  {
   "cell_type": "markdown",
   "id": "553004f3",
   "metadata": {},
   "source": [
    "-------------------------------"
   ]
  },
  {
   "cell_type": "markdown",
   "id": "4231629b",
   "metadata": {},
   "source": [
    "## **Boolean types:** `True`, `False`"
   ]
  },
  {
   "cell_type": "code",
   "execution_count": null,
   "id": "d5d80752",
   "metadata": {},
   "outputs": [],
   "source": []
  },
  {
   "cell_type": "markdown",
   "id": "ce7330dc",
   "metadata": {},
   "source": [
    "--------------------"
   ]
  },
  {
   "cell_type": "markdown",
   "id": "7e0a02fc",
   "metadata": {},
   "source": [
    "## **Sequence Types**\n",
    "**`List []`**\n",
    "- A collection of **mutable** items in a particular order.\n",
    "- Lists are **dynamic** and can grow or shrink as needed.\n",
    "- Supports efficient insertion/deletion at arbitrary locations.\n",
    "- Can contain elements of any data type, including custom objects.\n",
    "- They have **zero-based** index.\n",
    "- `list()` function is used to create a new list object.\n",
    "\n",
    "**List Functions & Methods**\n",
    "- `len()` : Returns the number of elements in the list.\n",
    "- `max()` / `min()` : Return the maximum / minimum value from the list.\n",
    "- `sum()` : Calculate the sum of all values in the list.\n",
    "- `del()` : Deletes the item at the given index.\n",
    "- `.append(item)` : Add an element to the end of the list.\n",
    "- `.extend([items])` : Add multiple items to the end of the list.\n",
    "- `.insert(pos, item)` : Insert an element at a specific position.\n",
    "- `.remove(item)` : Remove the first occurrence of a specified value. Raises an error if not found.\n",
    "- `.pop()` : Remove and return an item at the given position. If no index provided, removes and returns the last item.\n",
    "- `.clear()` : Removes all items from the list.\n",
    "- `.copy()` : Returns a copy of the original list.\n",
    "- `.count` : Count how many times an element appears in the list.\n",
    "-  `.index()` : Find the first occurrence of a value in the list. If not found, raises an error."
   ]
  },
  {
   "cell_type": "code",
   "execution_count": null,
   "id": "4b7b2bd5",
   "metadata": {},
   "outputs": [
    {
     "data": {
      "text/plain": [
       "['ali', 22, 'cairo', ['AI', 'DS', 'DA']]"
      ]
     },
     "metadata": {},
     "output_type": "display_data"
    }
   ],
   "source": [
    "data = ['ali', 22, 'cairo', ['AI', 'DS', 'DA']]\n",
    "data"
   ]
  },
  {
   "cell_type": "code",
   "execution_count": null,
   "id": "eccad5ca",
   "metadata": {},
   "outputs": [
    {
     "ename": "TypeError",
     "evalue": "'>' not supported between instances of 'int' and 'str'",
     "output_type": "error",
     "traceback": [
      "\u001b[1;31m---------------------------------------------------------------------------\u001b[0m\n",
      "\u001b[1;31mTypeError\u001b[0m                                 Traceback (most recent call last)\n",
      "Cell \u001b[1;32mIn[38], line 1\u001b[0m\n",
      "\u001b[1;32m----> 1\u001b[0m \u001b[38;5;28;43mmax\u001b[39;49m\u001b[43m(\u001b[49m\u001b[43mdata\u001b[49m\u001b[43m)\u001b[49m\n",
      "\n",
      "\u001b[1;31mTypeError\u001b[0m: '>' not supported between instances of 'int' and 'str'"
     ]
    }
   ],
   "source": [
    "max(data)"
   ]
  },
  {
   "cell_type": "code",
   "execution_count": null,
   "id": "ee130a43",
   "metadata": {},
   "outputs": [
    {
     "name": "stdout",
     "output_type": "stream",
     "text": [
      "91\n",
      "70\n",
      "427\n"
     ]
    }
   ],
   "source": [
    "marks = [90, 85, 70, 91, 91]\n",
    "print(max(marks))\n",
    "print(min(marks))\n",
    "print(sum(marks))\n",
    "\n"
   ]
  },
  {
   "cell_type": "code",
   "execution_count": null,
   "id": "2078b6fd",
   "metadata": {},
   "outputs": [
    {
     "ename": "TypeError",
     "evalue": "'int' object is not iterable",
     "output_type": "error",
     "traceback": [
      "\u001b[1;31m---------------------------------------------------------------------------\u001b[0m\n",
      "\u001b[1;31mTypeError\u001b[0m                                 Traceback (most recent call last)\n",
      "Cell \u001b[1;32mIn[36], line 1\u001b[0m\n",
      "\u001b[1;32m----> 1\u001b[0m \u001b[38;5;28;43msum\u001b[39;49m\u001b[43m(\u001b[49m\u001b[38;5;28;43mmax\u001b[39;49m\u001b[43m(\u001b[49m\u001b[43mmarks\u001b[49m\u001b[43m)\u001b[49m\u001b[43m)\u001b[49m\n",
      "\n",
      "\u001b[1;31mTypeError\u001b[0m: 'int' object is not iterable"
     ]
    }
   ],
   "source": [
    "sum(max(marks))"
   ]
  },
  {
   "cell_type": "code",
   "execution_count": null,
   "id": "55659a6e",
   "metadata": {},
   "outputs": [
    {
     "data": {
      "text/plain": [
       "['Ali', 'omar', 'amr', 'ahmed']"
      ]
     },
     "metadata": {},
     "output_type": "display_data"
    }
   ],
   "source": [
    "names"
   ]
  },
  {
   "cell_type": "code",
   "execution_count": null,
   "id": "38b602a5",
   "metadata": {},
   "outputs": [
    {
     "ename": "TypeError",
     "evalue": "unsupported operand type(s) for +: 'int' and 'str'",
     "output_type": "error",
     "traceback": [
      "\u001b[1;31m---------------------------------------------------------------------------\u001b[0m\n",
      "\u001b[1;31mTypeError\u001b[0m                                 Traceback (most recent call last)\n",
      "Cell \u001b[1;32mIn[32], line 1\u001b[0m\n",
      "\u001b[1;32m----> 1\u001b[0m \u001b[38;5;28;43msum\u001b[39;49m\u001b[43m(\u001b[49m\u001b[43mnames\u001b[49m\u001b[43m)\u001b[49m\n",
      "\n",
      "\u001b[1;31mTypeError\u001b[0m: unsupported operand type(s) for +: 'int' and 'str'"
     ]
    }
   ],
   "source": [
    "sum(names)"
   ]
  },
  {
   "cell_type": "code",
   "execution_count": null,
   "id": "6e2ebb0a",
   "metadata": {},
   "outputs": [
    {
     "name": "stdout",
     "output_type": "stream",
     "text": [
      "aliomar\n"
     ]
    }
   ],
   "source": [
    "print('ali' + 'omar')"
   ]
  },
  {
   "cell_type": "code",
   "execution_count": null,
   "id": "afc20249",
   "metadata": {},
   "outputs": [
    {
     "name": "stdout",
     "output_type": "stream",
     "text": [
      "['Ali', 'omar', 'amr', 'ahmed']\n"
     ]
    }
   ],
   "source": [
    "names = ['Ali', 'omar', 'amr', 'ahmed']\n",
    "print(names)"
   ]
  },
  {
   "cell_type": "code",
   "execution_count": null,
   "id": "400f2704",
   "metadata": {},
   "outputs": [
    {
     "data": {
      "text/plain": [
       "['Ali', 'omar', 'amr', 'ahmed']"
      ]
     },
     "metadata": {},
     "output_type": "display_data"
    }
   ],
   "source": [
    "names2 = names.copy()\n",
    "names2"
   ]
  },
  {
   "cell_type": "code",
   "execution_count": null,
   "id": "3808d219",
   "metadata": {},
   "outputs": [
    {
     "name": "stdout",
     "output_type": "stream",
     "text": [
      "['Ali', 'omar', 'amr', 'ahmed', 'Aya']\n"
     ]
    }
   ],
   "source": [
    "names.append('Aya')\n",
    "print(names)"
   ]
  },
  {
   "cell_type": "code",
   "execution_count": null,
   "id": "621d10ce",
   "metadata": {},
   "outputs": [
    {
     "ename": "TypeError",
     "evalue": "list.append() takes exactly one argument (3 given)",
     "output_type": "error",
     "traceback": [
      "\u001b[1;31m---------------------------------------------------------------------------\u001b[0m\n",
      "\u001b[1;31mTypeError\u001b[0m                                 Traceback (most recent call last)\n",
      "Cell \u001b[1;32mIn[9], line 1\u001b[0m\n",
      "\u001b[1;32m----> 1\u001b[0m \u001b[43mnames\u001b[49m\u001b[38;5;241;43m.\u001b[39;49m\u001b[43mappend\u001b[49m\u001b[43m(\u001b[49m\u001b[38;5;124;43m'\u001b[39;49m\u001b[38;5;124;43mola\u001b[39;49m\u001b[38;5;124;43m'\u001b[39;49m\u001b[43m,\u001b[49m\u001b[43m \u001b[49m\u001b[38;5;124;43m'\u001b[39;49m\u001b[38;5;124;43mkhaled\u001b[39;49m\u001b[38;5;124;43m'\u001b[39;49m\u001b[43m,\u001b[49m\u001b[43m \u001b[49m\u001b[38;5;124;43m'\u001b[39;49m\u001b[38;5;124;43mabdo\u001b[39;49m\u001b[38;5;124;43m'\u001b[39;49m\u001b[43m)\u001b[49m\n",
      "\u001b[0;32m      2\u001b[0m \u001b[38;5;28mprint\u001b[39m(names)\n",
      "\n",
      "\u001b[1;31mTypeError\u001b[0m: list.append() takes exactly one argument (3 given)"
     ]
    }
   ],
   "source": [
    "names.append(['ola', 'khaled', 'abdo'])\n",
    "print(names)"
   ]
  },
  {
   "cell_type": "code",
   "execution_count": null,
   "id": "7bfb8bf5",
   "metadata": {},
   "outputs": [
    {
     "name": "stdout",
     "output_type": "stream",
     "text": [
      "['Ali', 'omar', 'amr', 'ahmed', 'Aya', ['ola', 'khaled', 'abdo'], 'abdullah', 'esraa', 'ziad']\n"
     ]
    }
   ],
   "source": [
    "names.extend(['abdullah', 'esraa', 'ziad'])\n",
    "print(names)"
   ]
  },
  {
   "cell_type": "code",
   "execution_count": null,
   "id": "7cd5e2d8",
   "metadata": {},
   "outputs": [
    {
     "name": "stdout",
     "output_type": "stream",
     "text": [
      "['Ali', 'omar', 'amr', 'Huda', 'ahmed', 'Aya', ['ola', 'khaled', 'abdo'], 'abdullah', 'esraa', 'ziad']\n"
     ]
    }
   ],
   "source": [
    "names.insert(3, 'Huda')\n",
    "print(names)"
   ]
  },
  {
   "cell_type": "code",
   "execution_count": null,
   "id": "3b7956ab",
   "metadata": {},
   "outputs": [
    {
     "name": "stdout",
     "output_type": "stream",
     "text": [
      "['Ali', 'omar', 'amr', 'Huda', 'ahmed', ['ola', 'khaled', 'abdo'], 'abdullah', 'esraa', 'ziad']\n"
     ]
    }
   ],
   "source": [
    "names.remove('Aya')\n",
    "print(names)"
   ]
  },
  {
   "cell_type": "code",
   "execution_count": null,
   "id": "5bdbad61",
   "metadata": {},
   "outputs": [
    {
     "name": "stdout",
     "output_type": "stream",
     "text": [
      "['Ali', 'omar', 'amr', 'Huda', 'ahmed', 'abdullah', 'esraa', 'ziad']\n"
     ]
    }
   ],
   "source": [
    "names.pop(5)\n",
    "print(names)"
   ]
  },
  {
   "cell_type": "code",
   "execution_count": null,
   "id": "ffc383b7",
   "metadata": {},
   "outputs": [
    {
     "name": "stdout",
     "output_type": "stream",
     "text": [
      "[]\n"
     ]
    }
   ],
   "source": [
    "names.clear()\n",
    "print(names)"
   ]
  },
  {
   "cell_type": "code",
   "execution_count": null,
   "id": "6418f0a3",
   "metadata": {},
   "outputs": [
    {
     "ename": "NameError",
     "evalue": "name 'names' is not defined",
     "output_type": "error",
     "traceback": [
      "\u001b[1;31m---------------------------------------------------------------------------\u001b[0m\n",
      "\u001b[1;31mNameError\u001b[0m                                 Traceback (most recent call last)\n",
      "Cell \u001b[1;32mIn[16], line 3\u001b[0m\n",
      "\u001b[0;32m      1\u001b[0m names \u001b[38;5;241m=\u001b[39m [\u001b[38;5;124m'\u001b[39m\u001b[38;5;124mAli\u001b[39m\u001b[38;5;124m'\u001b[39m, \u001b[38;5;124m'\u001b[39m\u001b[38;5;124momar\u001b[39m\u001b[38;5;124m'\u001b[39m, \u001b[38;5;124m'\u001b[39m\u001b[38;5;124mamr\u001b[39m\u001b[38;5;124m'\u001b[39m, \u001b[38;5;124m'\u001b[39m\u001b[38;5;124mHuda\u001b[39m\u001b[38;5;124m'\u001b[39m, \u001b[38;5;124m'\u001b[39m\u001b[38;5;124mahmed\u001b[39m\u001b[38;5;124m'\u001b[39m, \u001b[38;5;124m'\u001b[39m\u001b[38;5;124mabdullah\u001b[39m\u001b[38;5;124m'\u001b[39m, \u001b[38;5;124m'\u001b[39m\u001b[38;5;124mesraa\u001b[39m\u001b[38;5;124m'\u001b[39m, \u001b[38;5;124m'\u001b[39m\u001b[38;5;124mziad\u001b[39m\u001b[38;5;124m'\u001b[39m]\n",
      "\u001b[0;32m      2\u001b[0m \u001b[38;5;28;01mdel\u001b[39;00m(names)\n",
      "\u001b[1;32m----> 3\u001b[0m \u001b[38;5;28mprint\u001b[39m(\u001b[43mnames\u001b[49m)\n",
      "\n",
      "\u001b[1;31mNameError\u001b[0m: name 'names' is not defined"
     ]
    }
   ],
   "source": [
    "names = ['Ali', 'omar', 'amr', 'Huda', 'ahmed', 'abdullah', 'esraa', 'ziad']\n",
    "del(names)\n",
    "print(names)"
   ]
  },
  {
   "cell_type": "code",
   "execution_count": null,
   "id": "ce344a7a",
   "metadata": {},
   "outputs": [
    {
     "data": {
      "text/plain": [
       "4"
      ]
     },
     "metadata": {},
     "output_type": "display_data"
    }
   ],
   "source": [
    "names = ['Ali', 'omar', 'amr', 'omar', 'ahmed', 'abdullah', 'esraa', 'ziad']\n",
    "names.index('ahmed')"
   ]
  },
  {
   "cell_type": "code",
   "execution_count": null,
   "id": "e404ef33",
   "metadata": {},
   "outputs": [
    {
     "name": "stdout",
     "output_type": "stream",
     "text": [
      "2\n"
     ]
    }
   ],
   "source": [
    "print(names.count('omar'))"
   ]
  },
  {
   "cell_type": "code",
   "execution_count": null,
   "id": "b7137dec",
   "metadata": {},
   "outputs": [
    {
     "name": "stdout",
     "output_type": "stream",
     "text": [
      "4\n"
     ]
    }
   ],
   "source": [
    "print(len(names))"
   ]
  },
  {
   "cell_type": "code",
   "execution_count": null,
   "id": "11dad2c5",
   "metadata": {},
   "outputs": [
    {
     "name": "stdout",
     "output_type": "stream",
     "text": [
      "['omar', 'amr', 'ahmed', 'Ali']\n"
     ]
    }
   ],
   "source": [
    "print(sorted(names, reverse=True))"
   ]
  },
  {
   "cell_type": "code",
   "execution_count": null,
   "id": "60502efd",
   "metadata": {},
   "outputs": [
    {
     "name": "stdout",
     "output_type": "stream",
     "text": [
      "['T', 'M', 'I', 'A']\n"
     ]
    }
   ],
   "source": [
    "s = \"AMIT\"\n",
    "print(sorted(s, reverse=True))"
   ]
  },
  {
   "cell_type": "code",
   "execution_count": null,
   "id": "15233994",
   "metadata": {},
   "outputs": [
    {
     "data": {
      "text/plain": [
       "['Ali', 'omar', 'amr', 'ahmed']"
      ]
     },
     "metadata": {},
     "output_type": "display_data"
    }
   ],
   "source": [
    "names"
   ]
  },
  {
   "cell_type": "code",
   "execution_count": null,
   "id": "165d3920",
   "metadata": {},
   "outputs": [
    {
     "data": {
      "text/plain": [
       "'omar'"
      ]
     },
     "metadata": {},
     "output_type": "display_data"
    }
   ],
   "source": [
    "names[1]"
   ]
  },
  {
   "cell_type": "markdown",
   "id": "60a9326b",
   "metadata": {},
   "source": [
    "------------------"
   ]
  },
  {
   "cell_type": "markdown",
   "id": "929ded29",
   "metadata": {},
   "source": [
    "**`Tuple ()`**\n",
    "- Immutable, ordered collection of items.\n",
    "- Cannot be modified after creation.\n",
    "- Useful for fixed-size collections where the order of elements matter and you don't want them changed accidentally.\n",
    "- Tuples can be used to group related data together. For example, **coordinates** (x, y) or **RGB** color values (red, green, blue).\n",
    "- Can contain elements of any data type, including custom objects.\n",
    "- They have zero-based.\n",
    "- `tuple()` function is used to create a new tuble object.\n",
    "\n",
    "**List Functions & Methods**\n",
    "- `len()` : Returns the number of elements in the tuple.\n",
    "- `max()` / `min()` : Return the maximum / minimum value from the tuple.\n",
    "- `sum()` : Calculate the sum of all values in the tuple.\n",
    "- `.count()` : Count how many times an element appears in the tuple.\n",
    "-  `.index(value)` : Find the index position of a specific item within the tuple."
   ]
  },
  {
   "cell_type": "code",
   "execution_count": null,
   "id": "d0a08e65",
   "metadata": {},
   "outputs": [
    {
     "name": "stdout",
     "output_type": "stream",
     "text": [
      "<class 'tuple'>\n"
     ]
    }
   ],
   "source": [
    "t = (25, 6, 44)\n",
    "print(type(t))"
   ]
  },
  {
   "cell_type": "code",
   "execution_count": null,
   "id": "6898bc08",
   "metadata": {},
   "outputs": [
    {
     "ename": "AttributeError",
     "evalue": "'tuple' object has no attribute 'append'",
     "output_type": "error",
     "traceback": [
      "\u001b[1;31m---------------------------------------------------------------------------\u001b[0m\n",
      "\u001b[1;31mAttributeError\u001b[0m                            Traceback (most recent call last)\n",
      "Cell \u001b[1;32mIn[40], line 1\u001b[0m\n",
      "\u001b[1;32m----> 1\u001b[0m \u001b[43mt\u001b[49m\u001b[38;5;241;43m.\u001b[39;49m\u001b[43mappend\u001b[49m(\u001b[38;5;241m8\u001b[39m)\n",
      "\n",
      "\u001b[1;31mAttributeError\u001b[0m: 'tuple' object has no attribute 'append'"
     ]
    }
   ],
   "source": [
    "t.append(8)"
   ]
  },
  {
   "cell_type": "code",
   "execution_count": null,
   "id": "b6e9e7e8",
   "metadata": {},
   "outputs": [
    {
     "ename": "TypeError",
     "evalue": "'tuple' object does not support item assignment",
     "output_type": "error",
     "traceback": [
      "\u001b[1;31m---------------------------------------------------------------------------\u001b[0m\n",
      "\u001b[1;31mTypeError\u001b[0m                                 Traceback (most recent call last)\n",
      "Cell \u001b[1;32mIn[46], line 1\u001b[0m\n",
      "\u001b[1;32m----> 1\u001b[0m \u001b[43mt\u001b[49m\u001b[43m[\u001b[49m\u001b[38;5;241;43m0\u001b[39;49m\u001b[43m]\u001b[49m \u001b[38;5;241m=\u001b[39m \u001b[38;5;241m60\u001b[39m\n",
      "\n",
      "\u001b[1;31mTypeError\u001b[0m: 'tuple' object does not support item assignment"
     ]
    }
   ],
   "source": [
    "t[0] = 60"
   ]
  },
  {
   "cell_type": "code",
   "execution_count": null,
   "id": "6d00eedc",
   "metadata": {},
   "outputs": [
    {
     "data": {
      "text/plain": [
       "['abdullah', 'omar', 'amr', 'ahmed']"
      ]
     },
     "metadata": {},
     "output_type": "display_data"
    }
   ],
   "source": [
    "names[0] = 'abdullah'\n",
    "names"
   ]
  },
  {
   "cell_type": "code",
   "execution_count": null,
   "id": "2614a43a",
   "metadata": {},
   "outputs": [],
   "source": [
    "c = (220, 100, 60)"
   ]
  },
  {
   "cell_type": "code",
   "execution_count": null,
   "id": "e84694af",
   "metadata": {},
   "outputs": [
    {
     "data": {
      "text/plain": [
       "[220, 100, 60]"
      ]
     },
     "metadata": {},
     "output_type": "display_data"
    }
   ],
   "source": [
    "l = list(c)\n",
    "l"
   ]
  },
  {
   "cell_type": "code",
   "execution_count": null,
   "id": "a926eac2",
   "metadata": {},
   "outputs": [
    {
     "data": {
      "text/plain": [
       "220"
      ]
     },
     "metadata": {},
     "output_type": "display_data"
    }
   ],
   "source": [
    "l.pop(0)"
   ]
  },
  {
   "cell_type": "code",
   "execution_count": null,
   "id": "84d0b239",
   "metadata": {},
   "outputs": [
    {
     "data": {
      "text/plain": [
       "(100, 60)"
      ]
     },
     "metadata": {},
     "output_type": "display_data"
    }
   ],
   "source": [
    "t = tuple(l)\n",
    "t"
   ]
  },
  {
   "cell_type": "code",
   "execution_count": null,
   "id": "c16cdba2",
   "metadata": {},
   "outputs": [],
   "source": [
    "p = (25, 6)\n"
   ]
  },
  {
   "cell_type": "markdown",
   "id": "2f8ff311",
   "metadata": {},
   "source": [
    "------------------"
   ]
  },
  {
   "cell_type": "markdown",
   "id": "002cea25",
   "metadata": {},
   "source": [
    "**`Set {}`**\n",
    "- A collection of elements.\n",
    "- The elements in a set are not stored in any particular order.\n",
    "- Sets cannot contain duplicate elements.\n",
    "- Can contain elements of any data type, including custom objects.\n",
    "- They are not subscriptable, meaning you can't access individual elements using square brackets (`[]`).\n",
    "- `set()` function is used to create a new set object.\n",
    "\n",
    "**List Functions & Methods**\n",
    "- `len()` : Returns the number of elements in the set.\n",
    "- `max()` / `min()` : Return the maximum / minimum value from the set.\n",
    "- `sum()` : Calculate the sum of all values in the set.\n",
    "- `del()` : Deletes the set.\n",
    "- `.add()` :Add an item to the set if not already present.\n",
    "- `.update()` : Add multiple items to the set.\n",
    "- `.remove(item)` : Remove a single specified item from the set.\n",
    "- `.discard()` : Remove a single specified item from the set if it exists.\n",
    "- `.pop()` : Remove and return an arbitrary item from the set.\n",
    "- `.clear()` : Removes all items from the set.\n",
    "- `.copy()` : Create a copy of the original set.\n",
    "- `issubset()`, `issuperset()`: Check if one set is a subset or superset of another.\n",
    "- `union()`, `intersection()`, `difference()`: Perform operations on sets.\n"
   ]
  },
  {
   "cell_type": "code",
   "execution_count": null,
   "id": "78030ff4",
   "metadata": {},
   "outputs": [
    {
     "data": {
      "text/plain": [
       "True"
      ]
     },
     "metadata": {},
     "output_type": "display_data"
    }
   ],
   "source": [
    "s1 = {12, 6}\n",
    "s2 = {12, 44, 6}\n",
    "\n",
    "s2.issuperset(s1)"
   ]
  },
  {
   "cell_type": "code",
   "execution_count": null,
   "id": "7aa4918d",
   "metadata": {},
   "outputs": [
    {
     "data": {
      "text/plain": [
       "{12}"
      ]
     },
     "metadata": {},
     "output_type": "display_data"
    }
   ],
   "source": [
    "s1.intersection(s2)\n"
   ]
  },
  {
   "cell_type": "code",
   "execution_count": null,
   "id": "5ed3cf48",
   "metadata": {},
   "outputs": [
    {
     "data": {
      "text/plain": [
       "{6, 44}"
      ]
     },
     "metadata": {},
     "output_type": "display_data"
    }
   ],
   "source": [
    "s2.difference(s1)"
   ]
  },
  {
   "cell_type": "code",
   "execution_count": null,
   "id": "2a2e220c",
   "metadata": {},
   "outputs": [
    {
     "data": {
      "text/plain": [
       "{6, 25, 30}"
      ]
     },
     "metadata": {},
     "output_type": "display_data"
    }
   ],
   "source": [
    "d = {25, 30, 6, 25}\n",
    "d"
   ]
  },
  {
   "cell_type": "code",
   "execution_count": null,
   "id": "a2d3fa5e",
   "metadata": {},
   "outputs": [
    {
     "data": {
      "text/plain": [
       "[30, 25, 6]"
      ]
     },
     "metadata": {},
     "output_type": "display_data"
    }
   ],
   "source": [
    "sorted(d, reverse=True)"
   ]
  },
  {
   "cell_type": "code",
   "execution_count": null,
   "id": "96d836cc",
   "metadata": {},
   "outputs": [
    {
     "data": {
      "text/plain": [
       "{6, 17, 25, 30}"
      ]
     },
     "metadata": {},
     "output_type": "display_data"
    }
   ],
   "source": [
    "d.add(17)\n",
    "d"
   ]
  },
  {
   "cell_type": "code",
   "execution_count": null,
   "id": "ec0e8f02",
   "metadata": {},
   "outputs": [
    {
     "data": {
      "text/plain": [
       "set()"
      ]
     },
     "metadata": {},
     "output_type": "display_data"
    }
   ],
   "source": [
    "d.clear()\n",
    "d"
   ]
  },
  {
   "cell_type": "code",
   "execution_count": null,
   "id": "60cd55fa",
   "metadata": {},
   "outputs": [
    {
     "data": {
      "text/plain": [
       "{6, 17, 25, 30}"
      ]
     },
     "metadata": {},
     "output_type": "display_data"
    }
   ],
   "source": [
    "d.add(17)\n",
    "d"
   ]
  },
  {
   "cell_type": "code",
   "execution_count": null,
   "id": "3f512737",
   "metadata": {},
   "outputs": [
    {
     "data": {
      "text/plain": [
       "{6, 17, 25, 30}"
      ]
     },
     "metadata": {},
     "output_type": "display_data"
    }
   ],
   "source": [
    "d.add(30)\n",
    "d"
   ]
  },
  {
   "cell_type": "code",
   "execution_count": null,
   "id": "b586db21",
   "metadata": {},
   "outputs": [
    {
     "data": {
      "text/plain": [
       "{4, 6, 9, 17, 25, 27, 30}"
      ]
     },
     "metadata": {},
     "output_type": "display_data"
    }
   ],
   "source": [
    "d.update([25, 4, 9, 27])\n",
    "d"
   ]
  },
  {
   "cell_type": "code",
   "execution_count": null,
   "id": "219577f9",
   "metadata": {},
   "outputs": [
    {
     "data": {
      "text/plain": [
       "['abdullah', 'omar', 'amr', 'ahmed']"
      ]
     },
     "metadata": {},
     "output_type": "display_data"
    }
   ],
   "source": [
    "names"
   ]
  },
  {
   "cell_type": "code",
   "execution_count": null,
   "id": "3276956c",
   "metadata": {},
   "outputs": [
    {
     "data": {
      "text/plain": [
       "['abdullah', 'omar', 'amr']"
      ]
     },
     "metadata": {},
     "output_type": "display_data"
    }
   ],
   "source": [
    "names.pop()\n",
    "names"
   ]
  },
  {
   "cell_type": "code",
   "execution_count": null,
   "id": "aba1739c",
   "metadata": {},
   "outputs": [
    {
     "data": {
      "text/plain": [
       "{4, 6, 9, 25, 27, 30}"
      ]
     },
     "metadata": {},
     "output_type": "display_data"
    }
   ],
   "source": [
    "d.remove(17)\n",
    "d"
   ]
  },
  {
   "cell_type": "code",
   "execution_count": null,
   "id": "5858bbb7",
   "metadata": {},
   "outputs": [
    {
     "ename": "KeyError",
     "evalue": "31",
     "output_type": "error",
     "traceback": [
      "\u001b[1;31m---------------------------------------------------------------------------\u001b[0m\n",
      "\u001b[1;31mKeyError\u001b[0m                                  Traceback (most recent call last)\n",
      "Cell \u001b[1;32mIn[61], line 1\u001b[0m\n",
      "\u001b[1;32m----> 1\u001b[0m \u001b[43md\u001b[49m\u001b[38;5;241;43m.\u001b[39;49m\u001b[43mremove\u001b[49m\u001b[43m(\u001b[49m\u001b[38;5;241;43m31\u001b[39;49m\u001b[43m)\u001b[49m\n",
      "\n",
      "\u001b[1;31mKeyError\u001b[0m: 31"
     ]
    }
   ],
   "source": [
    "d.remove(31)"
   ]
  },
  {
   "cell_type": "code",
   "execution_count": null,
   "id": "388efe99",
   "metadata": {},
   "outputs": [],
   "source": [
    "d.discard(31)"
   ]
  },
  {
   "cell_type": "code",
   "execution_count": null,
   "id": "34d8ba14",
   "metadata": {},
   "outputs": [
    {
     "data": {
      "text/plain": [
       "{6, 9, 25, 27, 30}"
      ]
     },
     "metadata": {},
     "output_type": "display_data"
    }
   ],
   "source": [
    "d.pop()\n",
    "d"
   ]
  },
  {
   "cell_type": "code",
   "execution_count": null,
   "id": "b07a4d0f",
   "metadata": {},
   "outputs": [
    {
     "data": {
      "text/plain": [
       "3"
      ]
     },
     "metadata": {},
     "output_type": "display_data"
    }
   ],
   "source": [
    "len(d)"
   ]
  },
  {
   "cell_type": "markdown",
   "id": "8f71e57a",
   "metadata": {},
   "source": [
    "**`Dictionary {k:v}`**\n",
    "- A collection of **key-value** pairs.\n",
    "- The key-value pairs in a dictionary are not stored in any particular order.\n",
    "- Keys in a dictionary must be **unique**, but values can be duplicated.\n",
    "- Keys can be of any **immutable** data type, such as integers, strings, or tuples. Values can be of any data type, including custom objects.\n",
    "- Dictionaries are subscriptable using keys ([]) to access individual values.\n",
    "- `dict()` function is used to create a new dictionary object.\n",
    "\n",
    "**Dictionary Functions & Methods**\n",
    "- `len()` : Returns the number of key-value pairs in the dictionary.\n",
    "- `del()` : Deletes the item with the specified key.\n",
    "- `.keys()` : Returns a view object of all keys in the dictionary.\n",
    "- `.values()` : Returns a view object of all values in the dictionary.\n",
    "- `.items()` : Returns a view object of all key-value pairs (tuples) in the dictionary.\n",
    "- `.get()` : Returns the value of the specified key. If the key does not exist, it returns None (or a default value if provided).\n",
    "- `.pop()` : Removes and returns the value of the specified key. If the key does not exist, it raises a KeyError (or returns a default value if provided).\n",
    "- `.popitem()` : Removes and returns an arbitrary key-value pair from the dictionary as a tuple.\n",
    "- `.clear()` : Removes all key-value pairs from the dictionary.\n",
    "- `.copy()` : Creates a shallow copy of the dictionary.\n",
    "- `.update()` : Updates the dictionary with the specified key-value pairs from another dictionary or iterable of key-value pairs."
   ]
  },
  {
   "cell_type": "code",
   "execution_count": null,
   "id": "bb0d67f9",
   "metadata": {},
   "outputs": [
    {
     "data": {
      "text/plain": [
       "['ahmed', 25, 'cairo', ['AI', 'ML', 'DS']]"
      ]
     },
     "metadata": {},
     "output_type": "display_data"
    }
   ],
   "source": [
    "data = ['ahmed', 25, 'cairo', ['AI', 'ML', 'DS']]\n",
    "data"
   ]
  },
  {
   "cell_type": "code",
   "execution_count": null,
   "id": "d24d9ccb",
   "metadata": {},
   "outputs": [
    {
     "data": {
      "text/plain": [
       "'ahmed'"
      ]
     },
     "metadata": {},
     "output_type": "display_data"
    }
   ],
   "source": [
    "data[0]"
   ]
  },
  {
   "cell_type": "code",
   "execution_count": null,
   "id": "6d417c6d",
   "metadata": {},
   "outputs": [
    {
     "data": {
      "text/plain": [
       "{'fname': 'ahmed', 'age': 25, 'city': 'cairo', 'skills': ['AI', 'DS', 'ML']}"
      ]
     },
     "metadata": {},
     "output_type": "display_data"
    }
   ],
   "source": [
    "data = {'fname':'ahmed', 'age':25, 'city':'cairo', 'skills':['AI', 'DS', 'ML']}\n",
    "data"
   ]
  },
  {
   "cell_type": "code",
   "execution_count": null,
   "id": "0fdb10a9",
   "metadata": {},
   "outputs": [
    {
     "data": {
      "text/plain": [
       "dict_keys(['fname', 'age', 'city', 'skills'])"
      ]
     },
     "metadata": {},
     "output_type": "display_data"
    }
   ],
   "source": [
    "data.keys()"
   ]
  },
  {
   "cell_type": "code",
   "execution_count": null,
   "id": "8b8df767",
   "metadata": {},
   "outputs": [
    {
     "data": {
      "text/plain": [
       "dict_values(['ahmed', 25, 'cairo', ['AI', 'DS', 'ML']])"
      ]
     },
     "metadata": {},
     "output_type": "display_data"
    }
   ],
   "source": [
    "data.values()"
   ]
  },
  {
   "cell_type": "code",
   "execution_count": null,
   "id": "a7298076",
   "metadata": {},
   "outputs": [
    {
     "data": {
      "text/plain": [
       "dict_items([('fname', 'ahmed'), ('age', 25), ('city', 'cairo'), ('skills', ['AI', 'DS', 'ML'])])"
      ]
     },
     "metadata": {},
     "output_type": "display_data"
    }
   ],
   "source": [
    "data.items()"
   ]
  },
  {
   "cell_type": "code",
   "execution_count": null,
   "id": "972271e2",
   "metadata": {},
   "outputs": [
    {
     "data": {
      "text/plain": [
       "25"
      ]
     },
     "metadata": {},
     "output_type": "display_data"
    }
   ],
   "source": [
    "data.get('age')"
   ]
  },
  {
   "cell_type": "code",
   "execution_count": null,
   "id": "616cd79f",
   "metadata": {},
   "outputs": [
    {
     "data": {
      "text/plain": [
       "{'fname': 'ahmed', 'age': 25, 'city': 'cairo'}"
      ]
     },
     "metadata": {},
     "output_type": "display_data"
    }
   ],
   "source": [
    "data"
   ]
  },
  {
   "cell_type": "code",
   "execution_count": null,
   "id": "bf37f4f3",
   "metadata": {},
   "outputs": [
    {
     "data": {
      "text/plain": [
       "{'fname': 'ahmed', 'age': 25}"
      ]
     },
     "metadata": {},
     "output_type": "display_data"
    }
   ],
   "source": [
    "data.popitem()\n",
    "data"
   ]
  },
  {
   "cell_type": "code",
   "execution_count": null,
   "id": "948fc03d",
   "metadata": {},
   "outputs": [
    {
     "data": {
      "text/plain": [
       "['AI', 'DS', 'ML']"
      ]
     },
     "metadata": {},
     "output_type": "display_data"
    }
   ],
   "source": [
    "data.pop('skills')"
   ]
  },
  {
   "cell_type": "code",
   "execution_count": null,
   "id": "23d97311",
   "metadata": {},
   "outputs": [
    {
     "data": {
      "text/plain": [
       "{'fname': 'ahmed', 'age': 25, 'city': 'cairo'}"
      ]
     },
     "metadata": {},
     "output_type": "display_data"
    }
   ],
   "source": [
    "data"
   ]
  },
  {
   "cell_type": "code",
   "execution_count": null,
   "id": "dfdfd93b",
   "metadata": {},
   "outputs": [
    {
     "data": {
      "text/plain": [
       "'ahmed'"
      ]
     },
     "metadata": {},
     "output_type": "display_data"
    }
   ],
   "source": [
    "data['fname']"
   ]
  },
  {
   "cell_type": "code",
   "execution_count": null,
   "id": "0e025345",
   "metadata": {},
   "outputs": [
    {
     "name": "stdout",
     "output_type": "stream",
     "text": [
      "{'fname': 'ahmed', 'age': 25, 'city': 'cairo', 'skills': ['AI', 'DS', 'ML']}\n"
     ]
    }
   ],
   "source": [
    "print(data)"
   ]
  },
  {
   "cell_type": "code",
   "execution_count": null,
   "id": "246e1e5d",
   "metadata": {},
   "outputs": [
    {
     "data": {
      "text/plain": [
       "4"
      ]
     },
     "metadata": {},
     "output_type": "display_data"
    }
   ],
   "source": [
    "len(data)"
   ]
  },
  {
   "cell_type": "code",
   "execution_count": null,
   "id": "36b1372c",
   "metadata": {},
   "outputs": [
    {
     "data": {
      "text/plain": [
       "{'fname': 'ahmed', 'age': 25}"
      ]
     },
     "metadata": {},
     "output_type": "display_data"
    }
   ],
   "source": [
    "data"
   ]
  },
  {
   "cell_type": "code",
   "execution_count": null,
   "id": "c9033a68",
   "metadata": {},
   "outputs": [
    {
     "data": {
      "text/plain": [
       "{'fname': 'ahmed', 'age': 25, 'city': 'cairo'}"
      ]
     },
     "metadata": {},
     "output_type": "display_data"
    }
   ],
   "source": [
    "data['city'] = 'cairo'\n",
    "data"
   ]
  },
  {
   "cell_type": "code",
   "execution_count": null,
   "id": "1370e827",
   "metadata": {},
   "outputs": [
    {
     "data": {
      "text/plain": [
       "{'fname': 'ahmed', 'age': 25, 'city': 'cairo', 'skills': ['AI', 'DS', 'ML']}"
      ]
     },
     "metadata": {},
     "output_type": "display_data"
    }
   ],
   "source": [
    "data.update({'skills':['AI', 'DS', 'ML']})\n",
    "data"
   ]
  },
  {
   "cell_type": "markdown",
   "id": "c26563ff",
   "metadata": {},
   "source": [
    "-------------"
   ]
  },
  {
   "cell_type": "markdown",
   "id": "b88132c2",
   "metadata": {},
   "source": [
    "### **Control Statements**\n",
    "`if..else`"
   ]
  },
  {
   "cell_type": "code",
   "execution_count": null,
   "id": "8759c9a0",
   "metadata": {},
   "outputs": [
    {
     "name": "stdout",
     "output_type": "stream",
     "text": [
      "Accept\n"
     ]
    }
   ],
   "source": [
    "age = 20\n",
    "\n",
    "if age > 18:\n",
    "    print('Accept')\n",
    "else:\n",
    "    print('Reject')"
   ]
  },
  {
   "cell_type": "code",
   "execution_count": null,
   "id": "c67de983",
   "metadata": {},
   "outputs": [],
   "source": [
    "l = [\"123456\", \"63589745\", \"amit\", \"machine learning\"]"
   ]
  },
  {
   "cell_type": "code",
   "execution_count": null,
   "id": "2ce4ce77",
   "metadata": {},
   "outputs": [
    {
     "name": "stdout",
     "output_type": "stream",
     "text": [
      "Password is strong\n"
     ]
    }
   ],
   "source": [
    "password = l[-1]\n",
    "if len(password) >= 8:\n",
    "    print(\"Password is strong\")\n",
    "\n",
    "else:\n",
    "    print(\"Password is weak\")"
   ]
  },
  {
   "cell_type": "markdown",
   "id": "c3537110",
   "metadata": {},
   "source": [
    "-------------------------------"
   ]
  },
  {
   "cell_type": "markdown",
   "id": "fef81299",
   "metadata": {},
   "source": [
    "# **Loops**\n",
    "- Loops allow you to execute a block of code repeatedly.\n",
    "- There are two types of loops that we can use inPython:\n",
    "    - The `for` loop\n",
    "    - The `while` loop"
   ]
  },
  {
   "cell_type": "markdown",
   "id": "3e478394",
   "metadata": {},
   "source": [
    "### **`For`**\n",
    "A for loop is used when you know how many times you want to execute a block of code."
   ]
  },
  {
   "cell_type": "code",
   "execution_count": null,
   "id": "8ca26d25",
   "metadata": {},
   "outputs": [],
   "source": [
    "print('Hello Ahmed')\n",
    "print(\"Hello Omar\")\n",
    "print(\"Hello Ali\")\n"
   ]
  },
  {
   "cell_type": "code",
   "execution_count": null,
   "id": "dbccf788",
   "metadata": {},
   "outputs": [
    {
     "data": {
      "text/plain": [
       "'Omar'"
      ]
     },
     "metadata": {},
     "output_type": "display_data"
    }
   ],
   "source": [
    "names = [\"Ali\", 'Amr', 'Omar', 'Ola', 'Ahmed']\n",
    "names[2]"
   ]
  },
  {
   "cell_type": "code",
   "execution_count": null,
   "id": "902c0d4b",
   "metadata": {},
   "outputs": [
    {
     "name": "stdout",
     "output_type": "stream",
     "text": [
      "Hello Ali\n",
      "Hello Amr\n",
      "Hello Omar\n",
      "Hello Ola\n",
      "Hello Ahmed\n"
     ]
    }
   ],
   "source": [
    "names = [\"Ali\", 'Amr', 'Omar', 'Ola', 'Ahmed']\n",
    "print(f\"Hello {names[0]}\")\n",
    "print(f\"Hello {names[1]}\")\n",
    "print(f\"Hello {names[2]}\")\n",
    "print(f\"Hello {names[3]}\")\n",
    "print(f\"Hello {names[4]}\")\n"
   ]
  },
  {
   "cell_type": "code",
   "execution_count": null,
   "id": "94a2d569",
   "metadata": {},
   "outputs": [
    {
     "name": "stdout",
     "output_type": "stream",
     "text": [
      "1\n",
      "2\n",
      "3\n",
      "4\n"
     ]
    }
   ],
   "source": [
    "for i in range(1, 5):\n",
    "    print(i)"
   ]
  },
  {
   "cell_type": "code",
   "execution_count": null,
   "id": "f8610082",
   "metadata": {},
   "outputs": [],
   "source": []
  },
  {
   "cell_type": "code",
   "execution_count": null,
   "id": "4343becd",
   "metadata": {},
   "outputs": [
    {
     "name": "stdout",
     "output_type": "stream",
     "text": [
      "h\n",
      "e\n",
      "l\n",
      "l\n",
      "o\n"
     ]
    }
   ],
   "source": [
    "for i in \"hello\":\n",
    "    print(i)"
   ]
  },
  {
   "cell_type": "code",
   "execution_count": null,
   "id": "a4fe6921",
   "metadata": {},
   "outputs": [
    {
     "name": "stdout",
     "output_type": "stream",
     "text": [
      "0\n",
      "5\n",
      "10\n",
      "15\n",
      "20\n",
      "25\n",
      "30\n",
      "35\n",
      "40\n",
      "45\n",
      "50\n",
      "55\n",
      "60\n",
      "65\n",
      "70\n",
      "75\n",
      "80\n",
      "85\n",
      "90\n",
      "95\n",
      "100\n"
     ]
    }
   ],
   "source": [
    "for i in range(0, 101, 5):\n",
    "    print(i)"
   ]
  },
  {
   "cell_type": "code",
   "execution_count": null,
   "id": "09250a3c",
   "metadata": {},
   "outputs": [],
   "source": []
  },
  {
   "cell_type": "code",
   "execution_count": null,
   "id": "ef7730d3",
   "metadata": {},
   "outputs": [],
   "source": [
    "s = \"Hello\"\n",
    "for i in range(len(s)):\n",
    "    "
   ]
  },
  {
   "cell_type": "code",
   "execution_count": null,
   "id": "1c3110ac",
   "metadata": {},
   "outputs": [],
   "source": [
    "i = 'ali'\n",
    "i = 'ahmed'\n",
    "i = 'amr'"
   ]
  },
  {
   "cell_type": "code",
   "execution_count": null,
   "id": "76014da8",
   "metadata": {},
   "outputs": [
    {
     "name": "stdout",
     "output_type": "stream",
     "text": [
      "Hello aLi\n",
      "Hello Ahmed\n",
      "Hello Amr\n"
     ]
    }
   ],
   "source": [
    "students_names = [\"aLi\", 'Ahmed', 'Amr']\n",
    "for i in students_names:\n",
    "    print(f\"Hello {i}\")"
   ]
  },
  {
   "cell_type": "code",
   "execution_count": null,
   "id": "50f9d0b1",
   "metadata": {},
   "outputs": [
    {
     "name": "stdout",
     "output_type": "stream",
     "text": [
      "Hello Ali\n",
      "Hello Amr\n",
      "Hello Omar\n",
      "Hello Ola\n",
      "Hello Ahmed\n"
     ]
    }
   ],
   "source": [
    "for name in names:\n",
    "    print(f\"Hello {name}\")"
   ]
  },
  {
   "cell_type": "code",
   "execution_count": null,
   "id": "5e424772",
   "metadata": {},
   "outputs": [
    {
     "data": {
      "text/plain": [
       "range(0, 5)"
      ]
     },
     "metadata": {},
     "output_type": "display_data"
    }
   ],
   "source": [
    "range(5)"
   ]
  },
  {
   "cell_type": "code",
   "execution_count": null,
   "id": "0f30a621",
   "metadata": {},
   "outputs": [
    {
     "name": "stdout",
     "output_type": "stream",
     "text": [
      "0\n",
      "1\n",
      "2\n",
      "3\n",
      "4\n"
     ]
    }
   ],
   "source": [
    "for i in [0, 1, 2, 3, 4]:\n",
    "    print(i)"
   ]
  },
  {
   "cell_type": "code",
   "execution_count": null,
   "id": "0d8496a6",
   "metadata": {},
   "outputs": [],
   "source": []
  },
  {
   "cell_type": "code",
   "execution_count": null,
   "id": "d46cc361",
   "metadata": {},
   "outputs": [],
   "source": []
  },
  {
   "cell_type": "code",
   "execution_count": null,
   "id": "5ded594e",
   "metadata": {},
   "outputs": [],
   "source": []
  },
  {
   "cell_type": "markdown",
   "id": "256ab833",
   "metadata": {},
   "source": [
    "- **Iterating over a `range` of numbers:**"
   ]
  },
  {
   "cell_type": "code",
   "execution_count": null,
   "id": "38d3c816",
   "metadata": {},
   "outputs": [
    {
     "name": "stdout",
     "output_type": "stream",
     "text": [
      "ali\n",
      "amr\n",
      "omar\n"
     ]
    }
   ],
   "source": [
    "l = ['ali', 'amr', 'omar']\n",
    "for i in range(len(l)):\n",
    "    print(l[i])"
   ]
  },
  {
   "cell_type": "code",
   "execution_count": null,
   "id": "320c1104",
   "metadata": {},
   "outputs": [
    {
     "name": "stdout",
     "output_type": "stream",
     "text": [
      "ali\n",
      "amr\n",
      "omar\n"
     ]
    }
   ],
   "source": [
    "for i in l:\n",
    "    print(i)"
   ]
  },
  {
   "cell_type": "code",
   "execution_count": null,
   "id": "0130ecd7",
   "metadata": {},
   "outputs": [
    {
     "name": "stdout",
     "output_type": "stream",
     "text": [
      "1\n",
      "5\n",
      "9\n",
      "13\n",
      "17\n"
     ]
    }
   ],
   "source": [
    "for i in range(1, 20, 4):\n",
    "    print(i)"
   ]
  },
  {
   "cell_type": "code",
   "execution_count": null,
   "id": "788669c6",
   "metadata": {},
   "outputs": [
    {
     "name": "stdout",
     "output_type": "stream",
     "text": [
      "ali\n",
      "amr\n",
      "omar\n"
     ]
    }
   ],
   "source": [
    "l = ['ali', 'amr', 'omar']\n",
    "for i in range(len(l)):\n",
    "    print(l[i])"
   ]
  },
  {
   "cell_type": "markdown",
   "id": "7320403b",
   "metadata": {},
   "source": [
    "- **Iterating over characters in a `string`:**"
   ]
  },
  {
   "cell_type": "code",
   "execution_count": null,
   "id": "afe0945f",
   "metadata": {},
   "outputs": [
    {
     "name": "stdout",
     "output_type": "stream",
     "text": [
      "H\n",
      "e\n",
      "l\n",
      "l\n",
      "o\n"
     ]
    }
   ],
   "source": [
    "s = \"Hello\"\n",
    "for i in s:\n",
    "    print(i)"
   ]
  },
  {
   "cell_type": "markdown",
   "id": "db709f59",
   "metadata": {},
   "source": [
    "- **Iterating over elements in a `list`:**"
   ]
  },
  {
   "cell_type": "code",
   "execution_count": null,
   "id": "9807bdeb",
   "metadata": {},
   "outputs": [
    {
     "data": {
      "text/plain": [
       "6"
      ]
     },
     "metadata": {},
     "output_type": "display_data"
    }
   ],
   "source": [
    "len(l)"
   ]
  },
  {
   "cell_type": "code",
   "execution_count": null,
   "id": "a7f3aad0",
   "metadata": {},
   "outputs": [
    {
     "data": {
      "text/plain": [
       "89"
      ]
     },
     "metadata": {},
     "output_type": "display_data"
    }
   ],
   "source": [
    "l[2]"
   ]
  },
  {
   "cell_type": "code",
   "execution_count": null,
   "id": "0e85e396",
   "metadata": {},
   "outputs": [
    {
     "name": "stdout",
     "output_type": "stream",
     "text": [
      "78\n",
      "99\n",
      "89\n",
      "77\n",
      "96\n",
      "88\n"
     ]
    }
   ],
   "source": [
    "l = [78, 99, 89, 77, 96, 88]\n",
    "for i in range(len(l)):\n",
    "    print(l[i])"
   ]
  },
  {
   "cell_type": "markdown",
   "id": "63d93bbe",
   "metadata": {},
   "source": [
    "- **Iterating over `tuples`:**"
   ]
  },
  {
   "cell_type": "code",
   "execution_count": null,
   "id": "cf0820e6",
   "metadata": {},
   "outputs": [],
   "source": [
    "input()"
   ]
  },
  {
   "cell_type": "code",
   "execution_count": null,
   "id": "be5c859e",
   "metadata": {},
   "outputs": [
    {
     "name": "stdout",
     "output_type": "stream",
     "text": [
      "ahmed\n",
      "ali\n",
      "omar\n"
     ]
    }
   ],
   "source": [
    "t = ('ahmed', 'ali', 'omar')\n",
    "\n",
    "for i in t:\n",
    "    print(i)"
   ]
  },
  {
   "cell_type": "code",
   "execution_count": null,
   "id": "1cb6397b",
   "metadata": {},
   "outputs": [
    {
     "name": "stdout",
     "output_type": "stream",
     "text": [
      "1 ahmed\n",
      "2 ali\n",
      "3 omar\n"
     ]
    }
   ],
   "source": [
    "t = ('ahmed', 'ali', 'omar')\n",
    "for i in range(len(t)):\n",
    "    print(f\"{i+1} {t[i]}\")"
   ]
  },
  {
   "cell_type": "markdown",
   "id": "c67bac9f",
   "metadata": {},
   "source": [
    "- **Iterating over key-value pairs in a `dictionary`:**"
   ]
  },
  {
   "cell_type": "code",
   "execution_count": null,
   "id": "af5967f3",
   "metadata": {},
   "outputs": [
    {
     "data": {
      "text/plain": [
       "{'Ids': [101, 102, 103], 'Names': ['Ali', 'Ahmed', 'Amr'], 'Age': [20, 21, 22]}"
      ]
     },
     "metadata": {},
     "output_type": "display_data"
    }
   ],
   "source": [
    "d = {\"Ids\":[101, 102, 103], 'Names':['Ali', 'Ahmed', \"Amr\"], 'Age': [20, 21, 22]}\n",
    "d"
   ]
  },
  {
   "cell_type": "code",
   "execution_count": null,
   "id": "af741386",
   "metadata": {},
   "outputs": [
    {
     "data": {
      "text/plain": [
       "dict_items([('Ids', [101, 102, 103]), ('Names', ['Ali', 'Ahmed', 'Amr']), ('Age', [20, 21, 22])])"
      ]
     },
     "metadata": {},
     "output_type": "display_data"
    }
   ],
   "source": [
    "d.items()"
   ]
  },
  {
   "cell_type": "code",
   "execution_count": null,
   "id": "1e68148d",
   "metadata": {},
   "outputs": [
    {
     "data": {
      "text/plain": [
       "('Ids', [101, 102, 103])"
      ]
     },
     "metadata": {},
     "output_type": "display_data"
    }
   ],
   "source": [
    "t = ('Ids', [101, 102, 103])\n",
    "t"
   ]
  },
  {
   "cell_type": "code",
   "execution_count": null,
   "id": "8d4b1c2d",
   "metadata": {},
   "outputs": [],
   "source": [
    "k, v = ('Ids', [101, 102, 103])"
   ]
  },
  {
   "cell_type": "code",
   "execution_count": null,
   "id": "3b4e1911",
   "metadata": {},
   "outputs": [
    {
     "data": {
      "text/plain": [
       "'Ids'"
      ]
     },
     "metadata": {},
     "output_type": "display_data"
    }
   ],
   "source": [
    "k"
   ]
  },
  {
   "cell_type": "code",
   "execution_count": null,
   "id": "df6cc1ed",
   "metadata": {},
   "outputs": [
    {
     "data": {
      "text/plain": [
       "[101, 102, 103]"
      ]
     },
     "metadata": {},
     "output_type": "display_data"
    }
   ],
   "source": [
    "v"
   ]
  },
  {
   "cell_type": "code",
   "execution_count": null,
   "id": "94c9ba62",
   "metadata": {},
   "outputs": [
    {
     "name": "stdout",
     "output_type": "stream",
     "text": [
      "Ids ==> [101, 102, 103]\n",
      "Names ==> ['Ali', 'Ahmed', 'Amr']\n",
      "Age ==> [20, 21, 22]\n"
     ]
    }
   ],
   "source": [
    "for k, v in d.items():\n",
    "    print(f\"{k} ==> {v}\")"
   ]
  },
  {
   "cell_type": "code",
   "execution_count": null,
   "id": "26265d12",
   "metadata": {},
   "outputs": [
    {
     "name": "stdout",
     "output_type": "stream",
     "text": [
      "0\n",
      "1\n",
      "2\n",
      "3\n",
      "4\n",
      "5\n",
      "6\n",
      "7\n",
      "8\n",
      "9\n",
      "10\n",
      "11\n"
     ]
    }
   ],
   "source": [
    "for i in range(20):\n",
    "    if i == 12:\n",
    "        break\n",
    "    print(i)"
   ]
  },
  {
   "cell_type": "code",
   "execution_count": null,
   "id": "9f291f79",
   "metadata": {},
   "outputs": [
    {
     "name": "stdout",
     "output_type": "stream",
     "text": [
      "0\n",
      "1\n",
      "2\n",
      "3\n",
      "4\n",
      "5\n",
      "6\n",
      "7\n",
      "8\n",
      "9\n",
      "10\n",
      "11\n",
      "13\n",
      "14\n",
      "15\n",
      "16\n",
      "17\n",
      "18\n",
      "19\n"
     ]
    }
   ],
   "source": [
    "for i in range(20):\n",
    "    if i == 12:\n",
    "        continue\n",
    "    print(i)"
   ]
  },
  {
   "cell_type": "code",
   "execution_count": null,
   "id": "aff3f5d7",
   "metadata": {},
   "outputs": [],
   "source": [
    "if age > 20:\n",
    "    pass"
   ]
  },
  {
   "cell_type": "code",
   "execution_count": null,
   "id": "50140a3d",
   "metadata": {},
   "outputs": [],
   "source": [
    "if age > 20:\n",
    "    pass"
   ]
  },
  {
   "cell_type": "code",
   "execution_count": null,
   "id": "6a201fbf",
   "metadata": {},
   "outputs": [],
   "source": []
  },
  {
   "cell_type": "code",
   "execution_count": null,
   "id": "4b9964b3",
   "metadata": {},
   "outputs": [],
   "source": []
  },
  {
   "cell_type": "code",
   "execution_count": null,
   "id": "aff79517",
   "metadata": {},
   "outputs": [
    {
     "name": "stdout",
     "output_type": "stream",
     "text": [
      "0\n",
      "1\n",
      "2\n",
      "3\n",
      "4\n",
      "5\n",
      "6\n",
      "7\n",
      "8\n",
      "9\n",
      "10\n",
      "11\n",
      "12\n",
      "13\n",
      "14\n",
      "15\n",
      "16\n",
      "17\n",
      "18\n",
      "19\n"
     ]
    }
   ],
   "source": [
    "for i in range(20):\n",
    "    if i == 12:\n",
    "        pass\n",
    "    print(i)"
   ]
  },
  {
   "cell_type": "code",
   "execution_count": null,
   "id": "75b79c17",
   "metadata": {},
   "outputs": [],
   "source": []
  },
  {
   "cell_type": "code",
   "execution_count": null,
   "id": "0f34e1d4",
   "metadata": {},
   "outputs": [],
   "source": [
    "def test():\n",
    "    pass"
   ]
  },
  {
   "cell_type": "code",
   "execution_count": null,
   "id": "6114ccbb",
   "metadata": {},
   "outputs": [],
   "source": []
  },
  {
   "cell_type": "markdown",
   "id": "45ea90ee",
   "metadata": {},
   "source": [
    "-------------------------------------"
   ]
  },
  {
   "cell_type": "markdown",
   "id": "da862369",
   "metadata": {},
   "source": [
    "- input\n",
    "- output (print)\n",
    "- Variables\n",
    "- Data types\n",
    "    - str\n",
    "    - int\n",
    "    - float\n",
    "    - bool\n",
    "    - list\n",
    "    - tuple\n",
    "    - set\n",
    "    - dictionary\n",
    "- if..elif..else\n",
    "- for..loop\n",
    "- while..loop\n",
    "- break, continue - pass\n",
    "- Try..Except\n"
   ]
  },
  {
   "cell_type": "code",
   "execution_count": null,
   "id": "5aecd7b1",
   "metadata": {},
   "outputs": [
    {
     "name": "stdout",
     "output_type": "stream",
     "text": [
      "You can't divide by zero!\n"
     ]
    }
   ],
   "source": [
    "try:\n",
    "    num1 = int(input())\n",
    "    num2 = int(input())\n",
    "\n",
    "    if num1 % num2 == 0:\n",
    "        print('Yes')\n",
    "\n",
    "    else:\n",
    "        print('No')\n",
    "except ValueError:\n",
    "    print('Please enter a valid number')\n",
    "\n",
    "except ZeroDivisionError:\n",
    "    print(\"You can't divide by zero!\")"
   ]
  }
 ],
 "metadata": {
  "language_info": {
   "name": "python"
  }
 },
 "nbformat": 4,
 "nbformat_minor": 5
}
