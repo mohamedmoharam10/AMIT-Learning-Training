{
 "cells": [
  {
   "cell_type": "code",
   "execution_count": 1,
   "metadata": {},
   "outputs": [],
   "source": [
    "import json"
   ]
  },
  {
   "cell_type": "markdown",
   "metadata": {},
   "source": [
    "#### **Reading from a JSON File:**"
   ]
  },
  {
   "cell_type": "code",
   "execution_count": 2,
   "metadata": {},
   "outputs": [
    {
     "name": "stdout",
     "output_type": "stream",
     "text": [
      "[{'Title': 'Attack on Titan', 'Genre': 'Action', 'Episodes': 75, 'ReleaseYear': 2013, 'Studio': 'Wit Studio'}, {'Title': 'My Hero Academia', 'Genre': 'Action', 'Episodes': 113, 'ReleaseYear': 2016, 'Studio': 'Bones'}, {'Title': 'Demon Slayer', 'Genre': 'Action', 'Episodes': 26, 'ReleaseYear': 2019, 'Studio': 'ufotable'}, {'Title': 'One Piece', 'Genre': 'Adventure', 'Episodes': '1000+', 'ReleaseYear': 1999, 'Studio': 'Toei Animation'}, {'Title': 'Spirited Away', 'Genre': 'Fantasy', 'Episodes': 1, 'ReleaseYear': 2001, 'Studio': 'Studio Ghibli'}, {'Title': 'Your Lie in April', 'Genre': 'Romance', 'Episodes': 22, 'ReleaseYear': 2014, 'Studio': 'A-1 Pictures'}, {'Title': 'Death Note', 'Genre': 'Thriller', 'Episodes': 37, 'ReleaseYear': 2006, 'Studio': 'Madhouse'}, {'Title': 'Fullmetal Alchemist: Brotherhood', 'Genre': 'Adventure', 'Episodes': 64, 'ReleaseYear': 2009, 'Studio': 'Bones'}, {'Title': 'Neon Genesis Evangelion', 'Genre': 'Mecha', 'Episodes': 26, 'ReleaseYear': 1995, 'Studio': 'Gainax'}, {'Title': 'Cowboy Bebop', 'Genre': 'Sci-Fi', 'Episodes': 26, 'ReleaseYear': 1998, 'Studio': 'Sunrise'}]\n"
     ]
    }
   ],
   "source": [
    "# Open the JSON file in read mode\n",
    "with open('file.json', 'r') as file:\n",
    "    # Load JSON data\n",
    "    data = json.load(file) # The json.load() function is used to read and parse the JSON content from the file into a Python data structure.\n",
    "\n",
    "# Access data from the loaded JSON\n",
    "print(data)"
   ]
  },
  {
   "cell_type": "markdown",
   "metadata": {},
   "source": [
    "#### **Writing to a JSON File:** "
   ]
  },
  {
   "cell_type": "code",
   "execution_count": 3,
   "metadata": {},
   "outputs": [],
   "source": [
    "# Python data to be written to the JSON file\n",
    "data = {\n",
    "    \"name\": \"John\",\n",
    "    \"age\": 30,\n",
    "    \"city\": \"New York\"\n",
    "}\n",
    "\n",
    "# Open the JSON file in write mode\n",
    "with open('output.json', 'w') as file:\n",
    "    # Write the data to the JSON file\n",
    "    json.dump(data, file, indent=2)  # 'indent' for pretty formatting"
   ]
  },
  {
   "cell_type": "markdown",
   "metadata": {},
   "source": [
    "#### **Working with JSON Strings:**\n",
    "**If you have a JSON string instead of a file, you can use *json.loads()* to load the string into a Python data structure:**"
   ]
  },
  {
   "cell_type": "code",
   "execution_count": 4,
   "metadata": {},
   "outputs": [
    {
     "name": "stdout",
     "output_type": "stream",
     "text": [
      "{'name': 'Alice', 'age': 25, 'city': 'London'}\n"
     ]
    }
   ],
   "source": [
    "# JSON string\n",
    "json_string = '{\"name\": \"Alice\", \"age\": 25, \"city\": \"London\"}'\n",
    "\n",
    "# Parse the JSON string into a Python data structure\n",
    "data = json.loads(json_string)\n",
    "\n",
    "# Access data from the parsed JSON\n",
    "print(data)"
   ]
  }
 ],
 "metadata": {
  "kernelspec": {
   "display_name": "Python 3",
   "language": "python",
   "name": "python3"
  },
  "language_info": {
   "codemirror_mode": {
    "name": "ipython",
    "version": 3
   },
   "file_extension": ".py",
   "mimetype": "text/x-python",
   "name": "python",
   "nbconvert_exporter": "python",
   "pygments_lexer": "ipython3",
   "version": "3.9.11"
  }
 },
 "nbformat": 4,
 "nbformat_minor": 2
}
