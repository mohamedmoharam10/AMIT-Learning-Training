{
 "cells": [
  {
   "cell_type": "markdown",
   "metadata": {},
   "source": [
    "**Dealing with XML files in Python can be done using the built-in xml module or external libraries such as *ElementTree* or *lxml*.**"
   ]
  },
  {
   "cell_type": "markdown",
   "metadata": {},
   "source": [
    "**Here's a basic example using the ElementTree module:**\n",
    "#### **Reading from an XML File:**"
   ]
  },
  {
   "cell_type": "code",
   "execution_count": 1,
   "metadata": {},
   "outputs": [],
   "source": [
    "import xml.etree.ElementTree as ET"
   ]
  },
  {
   "cell_type": "code",
   "execution_count": 2,
   "metadata": {},
   "outputs": [
    {
     "name": "stdout",
     "output_type": "stream",
     "text": [
      "Title: Attack on Titan\n",
      "Genre: Action\n",
      "Episodes: 75\n",
      "Release Year: 2013\n",
      "Studio: Wit Studio\n",
      "\n",
      "\n",
      "Title: My Hero Academia\n",
      "Genre: Action\n",
      "Episodes: 113\n",
      "Release Year: 2016\n",
      "Studio: Bones\n",
      "\n",
      "\n",
      "Title: Demon Slayer\n",
      "Genre: Action\n",
      "Episodes: 26\n",
      "Release Year: 2019\n",
      "Studio: ufotable\n",
      "\n",
      "\n",
      "Title: One Piece\n",
      "Genre: Adventure\n",
      "Episodes: 1000+\n",
      "Release Year: 1999\n",
      "Studio: Toei Animation\n",
      "\n",
      "\n",
      "Title: Spirited Away\n",
      "Genre: Fantasy\n",
      "Episodes: 1\n",
      "Release Year: 2001\n",
      "Studio: Studio Ghibli\n",
      "\n",
      "\n",
      "Title: Your Lie in April\n",
      "Genre: Romance\n",
      "Episodes: 22\n",
      "Release Year: 2014\n",
      "Studio: A-1 Pictures\n",
      "\n",
      "\n",
      "Title: Death Note\n",
      "Genre: Thriller\n",
      "Episodes: 37\n",
      "Release Year: 2006\n",
      "Studio: Madhouse\n",
      "\n",
      "\n",
      "Title: Fullmetal Alchemist: Brotherhood\n",
      "Genre: Adventure\n",
      "Episodes: 64\n",
      "Release Year: 2009\n",
      "Studio: Bones\n",
      "\n",
      "\n",
      "Title: Neon Genesis Evangelion\n",
      "Genre: Mecha\n",
      "Episodes: 26\n",
      "Release Year: 1995\n",
      "Studio: Gainax\n",
      "\n",
      "\n",
      "Title: Cowboy Bebop\n",
      "Genre: Sci-Fi\n",
      "Episodes: 26\n",
      "Release Year: 1998\n",
      "Studio: Sunrise\n",
      "\n",
      "\n"
     ]
    }
   ],
   "source": [
    "# Parse the XML file\n",
    "tree = ET.parse('file.xml')\n",
    "root = tree.getroot()\n",
    "\n",
    "# Iterate through each <Anime> element in the XML\n",
    "for anime_elem in root.findall('Anime'):\n",
    "    # Extract data from each <Anime> element\n",
    "    title = anime_elem.find('Title').text\n",
    "    genre = anime_elem.find('Genre').text\n",
    "    episodes = anime_elem.find('Episodes').text\n",
    "    release_year = anime_elem.find('ReleaseYear').text\n",
    "    studio = anime_elem.find('Studio').text\n",
    "\n",
    "    # Print or use the extracted data as needed\n",
    "    print(f\"Title: {title}\")\n",
    "    print(f\"Genre: {genre}\")\n",
    "    print(f\"Episodes: {episodes}\")\n",
    "    print(f\"Release Year: {release_year}\")\n",
    "    print(f\"Studio: {studio}\")\n",
    "    print(\"\\n\")\n"
   ]
  },
  {
   "cell_type": "markdown",
   "metadata": {},
   "source": [
    "#### **Writing to an XML File:**"
   ]
  },
  {
   "cell_type": "code",
   "execution_count": 3,
   "metadata": {},
   "outputs": [],
   "source": [
    "# Create the root element\n",
    "root = ET.Element(\"root\")\n",
    "\n",
    "# Create child elements\n",
    "child1 = ET.SubElement(root, \"child1\")\n",
    "child1.text = \"This is child 1\"\n",
    "\n",
    "child2 = ET.SubElement(root, \"child2\")\n",
    "child2.text = \"This is child 2\"\n",
    "\n",
    "# Create the XML tree\n",
    "tree = ET.ElementTree(root)\n",
    "\n",
    "# Write the tree to an XML file\n",
    "tree.write(\"output.xml\")\n"
   ]
  },
  {
   "cell_type": "markdown",
   "metadata": {},
   "source": [
    "**Using *lxml* for More Advanced Features:**\n",
    "- The lxml library is a powerful third-party library for processing *XML* and *HTML*."
   ]
  },
  {
   "cell_type": "markdown",
   "metadata": {},
   "source": [
    "#### **Reading from an XML File:**"
   ]
  },
  {
   "cell_type": "code",
   "execution_count": 4,
   "metadata": {},
   "outputs": [],
   "source": [
    "from lxml import etree"
   ]
  },
  {
   "cell_type": "code",
   "execution_count": 5,
   "metadata": {},
   "outputs": [
    {
     "name": "stdout",
     "output_type": "stream",
     "text": [
      "Title: Attack on Titan\n",
      "Genre: Action\n",
      "Episodes: 75\n",
      "Release Year: 2013\n",
      "Studio: Wit Studio\n",
      "\n",
      "\n",
      "Title: My Hero Academia\n",
      "Genre: Action\n",
      "Episodes: 113\n",
      "Release Year: 2016\n",
      "Studio: Bones\n",
      "\n",
      "\n",
      "Title: Demon Slayer\n",
      "Genre: Action\n",
      "Episodes: 26\n",
      "Release Year: 2019\n",
      "Studio: ufotable\n",
      "\n",
      "\n",
      "Title: One Piece\n",
      "Genre: Adventure\n",
      "Episodes: 1000+\n",
      "Release Year: 1999\n",
      "Studio: Toei Animation\n",
      "\n",
      "\n",
      "Title: Spirited Away\n",
      "Genre: Fantasy\n",
      "Episodes: 1\n",
      "Release Year: 2001\n",
      "Studio: Studio Ghibli\n",
      "\n",
      "\n",
      "Title: Your Lie in April\n",
      "Genre: Romance\n",
      "Episodes: 22\n",
      "Release Year: 2014\n",
      "Studio: A-1 Pictures\n",
      "\n",
      "\n",
      "Title: Death Note\n",
      "Genre: Thriller\n",
      "Episodes: 37\n",
      "Release Year: 2006\n",
      "Studio: Madhouse\n",
      "\n",
      "\n",
      "Title: Fullmetal Alchemist: Brotherhood\n",
      "Genre: Adventure\n",
      "Episodes: 64\n",
      "Release Year: 2009\n",
      "Studio: Bones\n",
      "\n",
      "\n",
      "Title: Neon Genesis Evangelion\n",
      "Genre: Mecha\n",
      "Episodes: 26\n",
      "Release Year: 1995\n",
      "Studio: Gainax\n",
      "\n",
      "\n",
      "Title: Cowboy Bebop\n",
      "Genre: Sci-Fi\n",
      "Episodes: 26\n",
      "Release Year: 1998\n",
      "Studio: Sunrise\n",
      "\n",
      "\n"
     ]
    }
   ],
   "source": [
    "# Parse the XML file\n",
    "tree = etree.parse('file.xml')\n",
    "root = tree.getroot()\n",
    "\n",
    "# Iterate through each <Anime> element in the XML\n",
    "for anime_elem in root.findall('Anime'):\n",
    "    # Extract data from each <Anime> element\n",
    "    title = anime_elem.find('Title').text\n",
    "    genre = anime_elem.find('Genre').text\n",
    "    episodes = anime_elem.find('Episodes').text\n",
    "    release_year = anime_elem.find('ReleaseYear').text\n",
    "    studio = anime_elem.find('Studio').text\n",
    "\n",
    "    # Print or use the extracted data as needed\n",
    "    print(f\"Title: {title}\")\n",
    "    print(f\"Genre: {genre}\")\n",
    "    print(f\"Episodes: {episodes}\")\n",
    "    print(f\"Release Year: {release_year}\")\n",
    "    print(f\"Studio: {studio}\")\n",
    "    print(\"\\n\")\n",
    "\n"
   ]
  },
  {
   "cell_type": "markdown",
   "metadata": {},
   "source": [
    "#### **Writting to an XML File:**"
   ]
  },
  {
   "cell_type": "code",
   "execution_count": 8,
   "metadata": {},
   "outputs": [],
   "source": [
    "# Create a new XML element for each anime\n",
    "anime_data = [\n",
    "    {\"Title\": \"New Anime 1\", \"Genre\": \"Fantasy\", \"Episodes\": \"24\", \"ReleaseYear\": \"2023\", \"Studio\": \"Studio X\"},\n",
    "    {\"Title\": \"New Anime 2\", \"Genre\": \"Sci-Fi\", \"Episodes\": \"12\", \"ReleaseYear\": \"2022\", \"Studio\": \"Studio Y\"},\n",
    "    # Add more anime data as needed\n",
    "]\n",
    "\n",
    "# Create the root element\n",
    "root = etree.Element('AnimeList')\n",
    "\n",
    "# Create XML elements for each anime and add them to the root\n",
    "for anime_info in anime_data:\n",
    "    anime_elem = etree.Element('Anime')\n",
    "    for key, value in anime_info.items():\n",
    "        child_elem = etree.SubElement(anime_elem, key)\n",
    "        child_elem.text = str(value)\n",
    "    root.append(anime_elem)\n",
    "\n",
    "# Create the XML tree and save it to a file\n",
    "tree = etree.ElementTree(root)\n",
    "tree.write('output2.xml', pretty_print=True, xml_declaration=True, encoding='utf-8')"
   ]
  },
  {
   "cell_type": "code",
   "execution_count": 9,
   "metadata": {},
   "outputs": [],
   "source": [
    "# Create a new XML element for the new anime\n",
    "new_anime = etree.Element('Anime')\n",
    "\n",
    "title_elem = etree.SubElement(new_anime, 'Title')\n",
    "title_elem.text = 'New Anime Title'\n",
    "\n",
    "genre_elem = etree.SubElement(new_anime, 'Genre')\n",
    "genre_elem.text = 'Adventure'\n",
    "\n",
    "episodes_elem = etree.SubElement(new_anime, 'Episodes')\n",
    "episodes_elem.text = '12'\n",
    "\n",
    "release_year_elem = etree.SubElement(new_anime, 'ReleaseYear')\n",
    "release_year_elem.text = '2022'\n",
    "\n",
    "studio_elem = etree.SubElement(new_anime, 'Studio')\n",
    "studio_elem.text = 'New Studio'\n",
    "\n",
    "# Load existing XML file or create a new one if it doesn't exist\n",
    "try:\n",
    "    tree = etree.parse('new_anime.xml')\n",
    "    root = tree.getroot()\n",
    "except FileNotFoundError:\n",
    "    root = etree.Element('AnimeList')\n",
    "    tree = etree.ElementTree(root)\n",
    "\n",
    "# Add the new anime to the root element\n",
    "root.append(new_anime)\n",
    "\n",
    "# Save the modified XML to a new file or overwrite the existing one\n",
    "tree.write('output2.xml', pretty_print=True, xml_declaration=True, encoding='utf-8')\n"
   ]
  }
 ],
 "metadata": {
  "kernelspec": {
   "display_name": "Python 3",
   "language": "python",
   "name": "python3"
  },
  "language_info": {
   "codemirror_mode": {
    "name": "ipython",
    "version": 3
   },
   "file_extension": ".py",
   "mimetype": "text/x-python",
   "name": "python",
   "nbconvert_exporter": "python",
   "pygments_lexer": "ipython3",
   "version": "3.9.11"
  }
 },
 "nbformat": 4,
 "nbformat_minor": 2
}
