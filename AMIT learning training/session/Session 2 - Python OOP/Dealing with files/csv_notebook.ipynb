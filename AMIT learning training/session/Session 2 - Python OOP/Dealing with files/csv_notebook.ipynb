{
 "cells": [
  {
   "cell_type": "code",
   "execution_count": 1,
   "metadata": {},
   "outputs": [],
   "source": [
    "import csv"
   ]
  },
  {
   "cell_type": "code",
   "execution_count": 2,
   "metadata": {},
   "outputs": [
    {
     "name": "stdout",
     "output_type": "stream",
     "text": [
      "['Attack on Titan', 'Action', '75', '2013', 'Wit Studio']\n",
      "['My Hero Academia', 'Action', '113', '2016', 'Bones']\n",
      "['Demon Slayer', 'Action', '26', '2019', 'ufotable']\n",
      "['One Piece', 'Adventure', '1000+', '1999', 'Toei Animation']\n",
      "['Spirited Away', 'Fantasy', '1', '2001', 'Studio Ghibli']\n",
      "['Your Lie in April', 'Romance', '22', '2014', 'A-1 Pictures']\n",
      "['Death Note', 'Thriller', '37', '2006', 'Madhouse']\n",
      "['Fullmetal Alchemist: Brotherhood', 'Adventure', '64', '2009', 'Bones']\n",
      "['Neon Genesis Evangelion', 'Mecha', '26', '1995', 'Gainax']\n",
      "['Cowboy Bebop', 'Sci-Fi', '26', '1998', 'Sunrise']\n"
     ]
    }
   ],
   "source": [
    "\n",
    "with open('file.csv', 'r') as file:\n",
    "    csv_reader = csv.reader(file)\n",
    "    \n",
    "    # Skip the header row\n",
    "    header = next(csv_reader)\n",
    "    \n",
    "    # Iterate through the rest of the rows\n",
    "    for row in csv_reader:\n",
    "        print(row)"
   ]
  },
  {
   "cell_type": "markdown",
   "metadata": {},
   "source": [
    "#### **Writing to a CSV File:**\n",
    "**To write data to a CSV file, you can use the csv.writer class:**"
   ]
  },
  {
   "cell_type": "code",
   "execution_count": 3,
   "metadata": {},
   "outputs": [],
   "source": [
    "import csv\n",
    "\n",
    "data = [\n",
    "    ['Name', 'Age', 'City'],\n",
    "    ['John', 28, 'New York'],\n",
    "    ['Alice', 22, 'London'],\n",
    "    ['Bob', 32, 'Paris']\n",
    "]\n",
    "\n",
    "# Open the CSV file in write mode\n",
    "with open('output.csv', 'w', newline='') as file:\n",
    "    # Create a CSV writer object\n",
    "    csv_writer = csv.writer(file)\n",
    "\n",
    "    # Write the data to the CSV file\n",
    "    csv_writer.writerows(data)\n"
   ]
  },
  {
   "cell_type": "markdown",
   "metadata": {},
   "source": [
    "#### **Using DictReader and DictWriter:**\n",
    "**If your CSV file has headers and you want to work with the data using column names, you can use *csv.DictReader* and *csv.DictWriter*:**"
   ]
  },
  {
   "cell_type": "code",
   "execution_count": 4,
   "metadata": {},
   "outputs": [
    {
     "name": "stdout",
     "output_type": "stream",
     "text": [
      "John 28 New York\n",
      "Alice 22 London\n",
      "Bob 32 Paris\n"
     ]
    }
   ],
   "source": [
    "# Reading from CSV using DictReader\n",
    "with open('output.csv', 'r') as file:\n",
    "    csv_reader = csv.DictReader(file)\n",
    "    \n",
    "    for row in csv_reader:\n",
    "        print(row['Name'], row['Age'], row['City'])"
   ]
  },
  {
   "cell_type": "code",
   "execution_count": 5,
   "metadata": {},
   "outputs": [],
   "source": [
    "\n",
    "# Writing to CSV using DictWriter\n",
    "data = [\n",
    "    {'Name': 'John', 'Age': 28, 'City': 'New York'},\n",
    "    {'Name': 'Alice', 'Age': 22, 'City': 'London'},\n",
    "    {'Name': 'Bob', 'Age': 32, 'City': 'Paris'}\n",
    "]\n",
    "\n",
    "with open('output.csv', 'w', newline='') as file:\n",
    "    fieldnames = ['Name', 'Age', 'City']\n",
    "    csv_writer = csv.DictWriter(file, fieldnames=fieldnames)\n",
    "    \n",
    "    csv_writer.writeheader()  # Write header\n",
    "    csv_writer.writerows(data)"
   ]
  }
 ],
 "metadata": {
  "kernelspec": {
   "display_name": "Python 3",
   "language": "python",
   "name": "python3"
  },
  "language_info": {
   "codemirror_mode": {
    "name": "ipython",
    "version": 3
   },
   "file_extension": ".py",
   "mimetype": "text/x-python",
   "name": "python",
   "nbconvert_exporter": "python",
   "pygments_lexer": "ipython3",
   "version": "3.9.11"
  }
 },
 "nbformat": 4,
 "nbformat_minor": 2
}
