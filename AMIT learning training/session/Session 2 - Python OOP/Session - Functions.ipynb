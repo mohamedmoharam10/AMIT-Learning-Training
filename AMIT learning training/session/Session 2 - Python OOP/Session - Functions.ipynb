{
 "cells": [
  {
   "cell_type": "markdown",
   "metadata": {},
   "source": [
    "### **Recap**\n",
    "- **print(object, end='\\n', sep=' ')**\n",
    "- **Escape Charaters:**\n",
    "    - **`\\n`:**  New Line\n",
    "    - **`\\t`:**  Tab\n",
    "    - **`\\\\`:** Backslash\n",
    "    - **`\\'` :** Single Quote\n",
    "    - **`\\\"` :** Double Quote\n",
    "- **Data Types**\n",
    "    - **Text Type:** `str`\n",
    "    - **Numeric Types:** `int`, `float`\n",
    "    - **Boolean Type:** `bool`\n",
    "    - **Sequence Types:** `list`, `tuple`, `set`, `range`\n",
    "    - **Mapping Types:** `dict`\n",
    "\n",
    "    `type()`\n"
   ]
  },
  {
   "cell_type": "markdown",
   "metadata": {},
   "source": [
    "- **Text Type**\n",
    "    - **String functions**\n",
    "        - `len()`: Returns the length of a string.\n",
    "        - `str()`, `repr()`: Convert an object to a string representation.\n",
    "        - `sorted()`: Sorts characters in a string and returns it as a new string.\n",
    "        - `max()`, `min()`: Return the  maximum or minimum value from a string.\n",
    "    - **String Methods**\n",
    "        - `.lower(), .upper()`: Convert all characters in a string to lowercase or uppercase, respectively.\n",
    "        - `.capitalize()`: Converts the first character in a string to capital letters.\n",
    "        - `.find(substring)`: Returns the lowest index in the string where substring is found. If not found, returns -1.\n",
    "        - `.count()`: Count how many times a substring appears in a string.\n",
    "        - `.replace('substring', 'substring')`: Replace occurrences of one substring with another.\n",
    "        - `.format()`, `f\"{}\"`: Format a string using placeholders and values provided by curly braces."
   ]
  },
  {
   "cell_type": "markdown",
   "metadata": {},
   "source": [
    "- **Numeric Types**\n",
    "    - `int` : integer, positive or negative with unlimited length.\n",
    "    - `float`: floating point number, can represent fractional numbers.\n",
    "    - `complex`: complex number, consists of a float representing the real part and another float for the imaginary part.\n",
    "\n",
    "    `casting functions`"
   ]
  },
  {
   "cell_type": "markdown",
   "metadata": {},
   "source": [
    "- **Operators and Expressions**\n",
    "  - Assignment operators: `=`, `+=`, `-=` etc.\n",
    "  - Arithmetic operators (`+`, `-`, `*`, `/`, `**`, `//`, `%`) work with numeric types, except `+` it can work with strings as well.\n",
    "  - Comparison operators (`==`, `<`, `<=`, `>`, `>=`) work with any data type that supports them (e.g., text vs numbers).\n",
    "  - Logical operators: `&&`, `||` (logical AND, logical OR)."
   ]
  },
  {
   "cell_type": "markdown",
   "metadata": {},
   "source": [
    "- **Boolean types:** `True`, `False`\n",
    "---------------------"
   ]
  },
  {
   "cell_type": "markdown",
   "metadata": {},
   "source": [
    "### **Sequence Types**\n",
    "**`List []`**\n",
    "- A collection of *mutable* items in a particular order.\n",
    "- Lists are *dynamic* and can grow or shrink as needed.\n",
    "- Supports efficient insertion/deletion at arbitrary locations.\n",
    "- Can contain elements of any data type, including custom objects.\n",
    "- They have zero-based.\n",
    "- `list()` function is used to create a new list object.\n",
    "\n",
    "**List Functions & Methods**\n",
    "- `len()` : Returns the number of elements in the list.\n",
    "- `max()` / `min()` : Return the maximum / minimum value from the list.\n",
    "- `sum` : Calculate the sum of all values in the list.\n",
    "- `del()` : Deletes the item at the given index.\n",
    "- `.append(item)` : Add an element to the end of the list.\n",
    "- `.extend([items])` : Add multiple items to the end of the list.\n",
    "- `.insert(pos, item)` : Insert an element at a specific position.\n",
    "- `.remove(item)` : Remove the first occurrence of a specified value. Raises an error if not found.\n",
    "- `.pop()` : Remove and return an item at the given position. If no index provided, removes and returns the last item.\n",
    "- `.clear()` : Removes all items from the list.\n",
    "- `.copy()` : Returns a copy of the original list.\n",
    "- `.count` : Count how many times an element appears in the list.\n",
    "-  `.index()` : Find the first occurrence of a value in the list. If not found, raises an error.\n",
    "- `.sort()` : Sort the list in ascending order.\n",
    "- `.reverse()` : Reverse the sort order of the list."
   ]
  },
  {
   "cell_type": "code",
   "execution_count": null,
   "metadata": {},
   "outputs": [],
   "source": []
  },
  {
   "cell_type": "markdown",
   "metadata": {},
   "source": [
    "**`Tuple ()`**\n",
    "- Immutable, ordered collection of items.\n",
    "- Cannot be modified after creation.\n",
    "- Useful for fixed-size collections where the order of elements matter and you don't want them changed accidentally.\n",
    "- Tuples can be used to group related data together. For example, **coordinates** (x, y) or **RGB** color values (red, green, blue).\n",
    "- Can contain elements of any data type, including custom objects.\n",
    "- They have zero-based.\n",
    "- `tuple()` function is used to create a new tuble object.\n",
    "\n",
    "**List Functions & Methods**\n",
    "- `len()` : Returns the number of elements in the tuple.\n",
    "- `max()` / `min()` : Return the maximum / minimum value from the tuple.\n",
    "- `sum()` : Calculate the sum of all values in the tuple.\n",
    "- `.count()` : Count how many times an element appears in the tuple.\n",
    "-  `.index(value)` : Find the index position of a specific item within the tuple."
   ]
  },
  {
   "cell_type": "markdown",
   "metadata": {},
   "source": [
    "**`Set {}`**\n",
    "- A collection of elements.\n",
    "- The elements in a set are not stored in any particular order.\n",
    "- Sets cannot contain duplicate elements.\n",
    "- Can contain elements of any data type, including custom objects.\n",
    "- They are not subscriptable, meaning you can't access individual elements using square brackets (`[]`).\n",
    "- `set()` function is used to create a new set object.\n",
    "\n",
    "**List Functions & Methods**\n",
    "- `len()` : Returns the number of elements in the set.\n",
    "- `max()` / `min()` : Return the maximum / minimum value from the set.\n",
    "- `sum()` : Calculate the sum of all values in the set.\n",
    "- `del()` : Deletes the item at the given index.\n",
    "- `.add()` :Add an item to the set if not already present.\n",
    "- `.update()` : Add multiple items to the set.\n",
    "- `.remove()` : Remove a single specified item from the set.\n",
    "- `.discard()` : Remove a single specified item from the set if it exists.\n",
    "- `.pop()` : Remove and return an arbitrary item from the set.\n",
    "- `.clear()` : Removes all items from the set.\n",
    "- `.copy()` : Create a copy of the original set.\n",
    "- `issubset()`, `issuperset()`: Check if one set is a subset or superset of another.\n",
    "- `union()`, `intersection()`, `difference()`: Perform operations on sets.\n",
    "--------------------"
   ]
  },
  {
   "cell_type": "markdown",
   "metadata": {},
   "source": [
    "### **Mapping Types**\n",
    "**`Dictionary {k:v}`**\n",
    "- A collection of key-value pairs.\n",
    "- The key-value pairs in a dictionary are not stored in any particular order.\n",
    "- Keys in a dictionary must be unique, but values can be duplicated.\n",
    "- Keys can be of any immutable data type, such as integers, strings, or tuples. Values can be of any data type, including custom objects.\n",
    "- Dictionaries are subscriptable using keys ([]) to access individual values.\n",
    "- `dict()` function is used to create a new dictionary object.\n",
    "\n",
    "**Dictionary Functions & Methods**\n",
    "- `len()` : Returns the number of key-value pairs in the dictionary.\n",
    "- `del()` : Deletes the item with the specified key.\n",
    "- `.keys()` : Returns a view object of all keys in the dictionary.\n",
    "- `.values()` : Returns a view object of all values in the dictionary.\n",
    "- `.items()` : Returns a view object of all key-value pairs (tuples) in the dictionary.\n",
    "- `.get()` : Returns the value of the specified key. If the key does not exist, it returns None (or a default value if provided).\n",
    "- `.pop()` : Removes and returns the value of the specified key. If the key does not exist, it raises a KeyError (or returns a default value if provided).\n",
    "- `.popitem()` : Removes and returns an arbitrary key-value pair from the dictionary as a tuple.\n",
    "- `.clear()` : Removes all key-value pairs from the dictionary.\n",
    "- `.copy()` : Creates a shallow copy of the dictionary.\n",
    "- `.update()` : Updates the dictionary with the specified key-value pairs from another dictionary or iterable of key-value pairs.\n",
    "--------------------------"
   ]
  },
  {
   "cell_type": "markdown",
   "metadata": {},
   "source": [
    "### **Control Statements**\n",
    "`if..else`"
   ]
  },
  {
   "cell_type": "markdown",
   "metadata": {},
   "source": [
    "-----------------------------------\n",
    "-----------------------------------"
   ]
  },
  {
   "cell_type": "markdown",
   "metadata": {},
   "source": [
    "# **Loops**\n",
    "- Loops allow you to execute a block of code repeatedly.\n",
    "- There are two types of loops that we can use inPython:\n",
    "    - The `for` loop\n",
    "    - The `while` loop"
   ]
  },
  {
   "cell_type": "markdown",
   "metadata": {},
   "source": [
    "### **`For`**\n",
    "A for loop is used when you know how many times you want to execute a block of code."
   ]
  },
  {
   "cell_type": "markdown",
   "metadata": {},
   "source": [
    "- **Iterating over a `range` of numbers:**"
   ]
  },
  {
   "cell_type": "markdown",
   "metadata": {},
   "source": [
    "- **Iterating over characters in a `string`:**"
   ]
  },
  {
   "cell_type": "markdown",
   "metadata": {},
   "source": [
    "- **Iterating over elements in a `list`:**"
   ]
  },
  {
   "cell_type": "markdown",
   "metadata": {},
   "source": [
    "- **Iterating over `tuples`:**"
   ]
  },
  {
   "cell_type": "markdown",
   "metadata": {},
   "source": [
    "- **Iterating over key-value pairs in a `dictionary`:**"
   ]
  },
  {
   "cell_type": "markdown",
   "metadata": {},
   "source": [
    "### **`While`**"
   ]
  },
  {
   "cell_type": "markdown",
   "metadata": {},
   "source": [
    "### **break - continue - pass**"
   ]
  },
  {
   "cell_type": "markdown",
   "metadata": {},
   "source": [
    "-------------------------------------"
   ]
  },
  {
   "cell_type": "code",
   "execution_count": 13,
   "metadata": {},
   "outputs": [
    {
     "name": "stdout",
     "output_type": "stream",
     "text": [
      "gninraeL TIMA ni gniniart ecneicS ataD dna IA ni olleH\n"
     ]
    }
   ],
   "source": [
    "txt = \"Hello in AI and Data Science training in AMIT Learning\"\n",
    "print(txt[::-1])"
   ]
  },
  {
   "cell_type": "code",
   "execution_count": 18,
   "metadata": {},
   "outputs": [
    {
     "data": {
      "text/plain": [
       "['dalia', 'aya', 'omar', 'amr', 'ali']"
      ]
     },
     "execution_count": 18,
     "metadata": {},
     "output_type": "execute_result"
    }
   ],
   "source": [
    "names = ['ali', 'amr', 'omar', 'aya', 'dalia']\n",
    "names[::-1]"
   ]
  },
  {
   "cell_type": "code",
   "execution_count": 26,
   "metadata": {},
   "outputs": [
    {
     "data": {
      "text/plain": [
       "(25, 4)"
      ]
     },
     "execution_count": 26,
     "metadata": {},
     "output_type": "execute_result"
    }
   ],
   "source": [
    "t = (25, 4)\n",
    "t"
   ]
  },
  {
   "cell_type": "code",
   "execution_count": 27,
   "metadata": {},
   "outputs": [
    {
     "ename": "ValueError",
     "evalue": "not enough values to unpack (expected 3, got 2)",
     "output_type": "error",
     "traceback": [
      "\u001b[1;31m---------------------------------------------------------------------------\u001b[0m",
      "\u001b[1;31mValueError\u001b[0m                                Traceback (most recent call last)",
      "Cell \u001b[1;32mIn[27], line 1\u001b[0m\n\u001b[1;32m----> 1\u001b[0m i1, i2, i3 \u001b[38;5;241m=\u001b[39m t\n",
      "\u001b[1;31mValueError\u001b[0m: not enough values to unpack (expected 3, got 2)"
     ]
    }
   ],
   "source": [
    "i1, i2, i3 = t"
   ]
  },
  {
   "cell_type": "code",
   "execution_count": 23,
   "metadata": {},
   "outputs": [
    {
     "data": {
      "text/plain": [
       "6"
      ]
     },
     "execution_count": 23,
     "metadata": {},
     "output_type": "execute_result"
    }
   ],
   "source": [
    "i3"
   ]
  },
  {
   "cell_type": "code",
   "execution_count": null,
   "metadata": {},
   "outputs": [],
   "source": []
  },
  {
   "cell_type": "code",
   "execution_count": null,
   "metadata": {},
   "outputs": [],
   "source": []
  },
  {
   "cell_type": "code",
   "execution_count": null,
   "metadata": {},
   "outputs": [],
   "source": []
  },
  {
   "cell_type": "markdown",
   "metadata": {},
   "source": [
    "# **Functions**\n",
    "A block of code that is used more than once."
   ]
  },
  {
   "cell_type": "code",
   "execution_count": 28,
   "metadata": {},
   "outputs": [
    {
     "data": {
      "text/plain": [
       "15"
      ]
     },
     "execution_count": 28,
     "metadata": {},
     "output_type": "execute_result"
    }
   ],
   "source": [
    "l = [1, 2, 3, 4, 5]\n",
    "sum(l)"
   ]
  },
  {
   "cell_type": "code",
   "execution_count": 29,
   "metadata": {},
   "outputs": [
    {
     "name": "stdout",
     "output_type": "stream",
     "text": [
      "15\n"
     ]
    }
   ],
   "source": [
    "s = 0\n",
    "for i in l:\n",
    "    s += i\n",
    "\n",
    "print(s)\n"
   ]
  },
  {
   "cell_type": "code",
   "execution_count": 30,
   "metadata": {},
   "outputs": [
    {
     "name": "stdout",
     "output_type": "stream",
     "text": [
      "128\n"
     ]
    }
   ],
   "source": [
    "l2 = [25, 34, 66, 3]\n",
    "s = 0\n",
    "for i in l2:\n",
    "    s += i\n",
    "\n",
    "print(s)"
   ]
  },
  {
   "cell_type": "code",
   "execution_count": 31,
   "metadata": {},
   "outputs": [],
   "source": [
    "def summ(x):\n",
    "    s = 0\n",
    "    for i in x:\n",
    "        s += i\n",
    "    print(s)\n"
   ]
  },
  {
   "cell_type": "code",
   "execution_count": 38,
   "metadata": {},
   "outputs": [],
   "source": [
    "def summ2(x):\n",
    "    s = 0\n",
    "    for i in x:\n",
    "        s += i\n",
    "    return s\n"
   ]
  },
  {
   "cell_type": "code",
   "execution_count": 40,
   "metadata": {},
   "outputs": [],
   "source": [
    "l2 = [25, 34, 66, 3]\n",
    "s = summ2(l2)"
   ]
  },
  {
   "cell_type": "code",
   "execution_count": 41,
   "metadata": {},
   "outputs": [
    {
     "data": {
      "text/plain": [
       "128"
      ]
     },
     "execution_count": 41,
     "metadata": {},
     "output_type": "execute_result"
    }
   ],
   "source": [
    "s"
   ]
  },
  {
   "cell_type": "code",
   "execution_count": 1,
   "metadata": {},
   "outputs": [],
   "source": [
    "def factorial(num):\n",
    "    f = 1\n",
    "    for i in range(1, num + 1):\n",
    "        f *= i\n",
    "\n",
    "    return f"
   ]
  },
  {
   "cell_type": "code",
   "execution_count": 2,
   "metadata": {},
   "outputs": [
    {
     "name": "stdout",
     "output_type": "stream",
     "text": [
      "120\n"
     ]
    }
   ],
   "source": [
    "num = 5\n",
    "f = 1\n",
    "x = 1\n",
    "while x <= num:\n",
    "    f *= x\n",
    "    x += 1\n",
    "\n",
    "print(f)"
   ]
  },
  {
   "cell_type": "code",
   "execution_count": 3,
   "metadata": {},
   "outputs": [
    {
     "data": {
      "text/plain": [
       "120"
      ]
     },
     "execution_count": 3,
     "metadata": {},
     "output_type": "execute_result"
    }
   ],
   "source": [
    "num = 5\n",
    "f = 1\n",
    "while num > 0:\n",
    "    f *= num\n",
    "    num -= 1\n",
    "\n",
    "f"
   ]
  },
  {
   "cell_type": "code",
   "execution_count": 4,
   "metadata": {},
   "outputs": [],
   "source": [
    "def fact(num):\n",
    "    f = 1\n",
    "    while num > 0:\n",
    "        f *= num\n",
    "        num -= 1\n",
    "    return f"
   ]
  },
  {
   "cell_type": "code",
   "execution_count": 5,
   "metadata": {},
   "outputs": [
    {
     "data": {
      "text/plain": [
       "120"
      ]
     },
     "execution_count": 5,
     "metadata": {},
     "output_type": "execute_result"
    }
   ],
   "source": [
    "fact(5)"
   ]
  },
  {
   "cell_type": "code",
   "execution_count": 45,
   "metadata": {},
   "outputs": [
    {
     "data": {
      "text/plain": [
       "120"
      ]
     },
     "execution_count": 45,
     "metadata": {},
     "output_type": "execute_result"
    }
   ],
   "source": [
    "f = factorial(5)\n",
    "f"
   ]
  },
  {
   "cell_type": "code",
   "execution_count": 42,
   "metadata": {},
   "outputs": [
    {
     "name": "stdout",
     "output_type": "stream",
     "text": [
      "120\n"
     ]
    }
   ],
   "source": [
    "num = int(input())\n",
    "f = 1\n",
    "for i in range(1, num + 1):\n",
    "    f *= i\n",
    "\n",
    "print(f)"
   ]
  },
  {
   "cell_type": "code",
   "execution_count": null,
   "metadata": {},
   "outputs": [],
   "source": []
  },
  {
   "cell_type": "code",
   "execution_count": null,
   "metadata": {},
   "outputs": [],
   "source": [
    "def say_hello(names):\n",
    "    for name in names:\n",
    "        print(f\"Hello, {name}!\")"
   ]
  },
  {
   "cell_type": "code",
   "execution_count": 10,
   "metadata": {},
   "outputs": [],
   "source": [
    "def say_hello(f):\n",
    "    t = f()\n",
    "    print('AI', t)"
   ]
  },
  {
   "cell_type": "code",
   "execution_count": 11,
   "metadata": {},
   "outputs": [],
   "source": [
    "def ahla():\n",
    "    return \"Ahla\""
   ]
  },
  {
   "cell_type": "code",
   "execution_count": 12,
   "metadata": {},
   "outputs": [
    {
     "name": "stdout",
     "output_type": "stream",
     "text": [
      "AI Ahla\n"
     ]
    }
   ],
   "source": [
    "say_hello(ahla)"
   ]
  },
  {
   "cell_type": "code",
   "execution_count": null,
   "metadata": {},
   "outputs": [],
   "source": []
  },
  {
   "cell_type": "code",
   "execution_count": null,
   "metadata": {},
   "outputs": [],
   "source": []
  },
  {
   "cell_type": "code",
   "execution_count": null,
   "metadata": {},
   "outputs": [],
   "source": []
  },
  {
   "cell_type": "code",
   "execution_count": null,
   "metadata": {},
   "outputs": [],
   "source": []
  },
  {
   "cell_type": "code",
   "execution_count": 32,
   "metadata": {},
   "outputs": [
    {
     "name": "stdout",
     "output_type": "stream",
     "text": [
      "128\n"
     ]
    }
   ],
   "source": [
    "l2 = [25, 34, 66, 3]\n",
    "summ(l2)"
   ]
  },
  {
   "cell_type": "code",
   "execution_count": 34,
   "metadata": {},
   "outputs": [],
   "source": [
    "s = sum(l2)"
   ]
  },
  {
   "cell_type": "code",
   "execution_count": 35,
   "metadata": {},
   "outputs": [
    {
     "data": {
      "text/plain": [
       "128"
      ]
     },
     "execution_count": 35,
     "metadata": {},
     "output_type": "execute_result"
    }
   ],
   "source": [
    "s"
   ]
  },
  {
   "cell_type": "code",
   "execution_count": 36,
   "metadata": {},
   "outputs": [
    {
     "name": "stdout",
     "output_type": "stream",
     "text": [
      "128\n"
     ]
    }
   ],
   "source": [
    "s = summ(l2)"
   ]
  },
  {
   "cell_type": "code",
   "execution_count": 37,
   "metadata": {},
   "outputs": [],
   "source": [
    "s"
   ]
  },
  {
   "cell_type": "code",
   "execution_count": null,
   "metadata": {},
   "outputs": [],
   "source": []
  },
  {
   "cell_type": "code",
   "execution_count": null,
   "metadata": {},
   "outputs": [],
   "source": []
  },
  {
   "cell_type": "code",
   "execution_count": null,
   "metadata": {},
   "outputs": [],
   "source": []
  },
  {
   "cell_type": "code",
   "execution_count": null,
   "metadata": {},
   "outputs": [],
   "source": []
  },
  {
   "cell_type": "code",
   "execution_count": null,
   "metadata": {},
   "outputs": [],
   "source": []
  },
  {
   "cell_type": "code",
   "execution_count": null,
   "metadata": {},
   "outputs": [],
   "source": [
    "n = 5\n",
    "\n",
    "factorial = 1\n",
    "while n > 0:\n",
    "    factorial = factorial * n\n",
    "    print(factorial)\n",
    "    n -= 1\n",
    "\n",
    "print(\"Factorial:\", factorial)\n"
   ]
  },
  {
   "cell_type": "code",
   "execution_count": null,
   "metadata": {},
   "outputs": [],
   "source": [
    "n = 6\n",
    "\n",
    "factorial = 1\n",
    "while n > 0:\n",
    "    factorial = factorial * n \n",
    "    print(factorial)\n",
    "    n -= 1\n",
    "\n",
    "print(\"Factorial:\", factorial)\n"
   ]
  },
  {
   "cell_type": "code",
   "execution_count": null,
   "metadata": {},
   "outputs": [],
   "source": [
    "n = 8\n",
    "\n",
    "factorial = 1\n",
    "while n > 0:\n",
    "    factorial = factorial * n   # 5  20  60  120  120\n",
    "    print(factorial)\n",
    "    n -= 1   # 4 3 2 1 0\n",
    "\n",
    "print(\"Factorial:\", factorial)\n"
   ]
  },
  {
   "cell_type": "markdown",
   "metadata": {},
   "source": [
    "- Search about global and local function"
   ]
  },
  {
   "cell_type": "code",
   "execution_count": null,
   "metadata": {},
   "outputs": [],
   "source": [
    "l = ['ali', 'amr', 'omar']\n",
    "ll = len(l)"
   ]
  },
  {
   "cell_type": "code",
   "execution_count": null,
   "metadata": {},
   "outputs": [],
   "source": [
    "ll"
   ]
  },
  {
   "cell_type": "code",
   "execution_count": null,
   "metadata": {},
   "outputs": [],
   "source": []
  },
  {
   "cell_type": "code",
   "execution_count": null,
   "metadata": {},
   "outputs": [],
   "source": []
  },
  {
   "cell_type": "code",
   "execution_count": null,
   "metadata": {},
   "outputs": [],
   "source": [
    "def fact(n):\n",
    "\n",
    "    factorial = 1\n",
    "    while n > 0:\n",
    "        factorial = factorial * n\n",
    "        n -= 1\n",
    "\n",
    "    return factorial\n"
   ]
  },
  {
   "cell_type": "code",
   "execution_count": null,
   "metadata": {},
   "outputs": [],
   "source": [
    "fact(5)"
   ]
  },
  {
   "cell_type": "code",
   "execution_count": null,
   "metadata": {},
   "outputs": [],
   "source": [
    "f"
   ]
  },
  {
   "cell_type": "code",
   "execution_count": null,
   "metadata": {},
   "outputs": [],
   "source": [
    "factorial"
   ]
  },
  {
   "cell_type": "code",
   "execution_count": null,
   "metadata": {},
   "outputs": [],
   "source": [
    "f = fact(5)"
   ]
  },
  {
   "cell_type": "code",
   "execution_count": null,
   "metadata": {},
   "outputs": [],
   "source": [
    "f + 5"
   ]
  },
  {
   "cell_type": "code",
   "execution_count": null,
   "metadata": {},
   "outputs": [],
   "source": [
    "def say_hello(name):\n",
    "    print(f\"Hello, {name}!\")"
   ]
  },
  {
   "cell_type": "code",
   "execution_count": null,
   "metadata": {},
   "outputs": [],
   "source": [
    "say_hello('omar')"
   ]
  },
  {
   "cell_type": "code",
   "execution_count": null,
   "metadata": {},
   "outputs": [],
   "source": []
  },
  {
   "cell_type": "code",
   "execution_count": null,
   "metadata": {},
   "outputs": [],
   "source": [
    "def greet():\n",
    "    print(\"Hello, world!\")\n",
    "\n",
    "greet()  # Call the function"
   ]
  },
  {
   "cell_type": "code",
   "execution_count": null,
   "metadata": {},
   "outputs": [],
   "source": [
    "greet()"
   ]
  },
  {
   "cell_type": "code",
   "execution_count": null,
   "metadata": {},
   "outputs": [],
   "source": [
    "def shd_7ilk():\n",
    "    print('Aaaaaaaaaaaaaaaaash')\n",
    "\n",
    "shd_7ilk()"
   ]
  },
  {
   "cell_type": "markdown",
   "metadata": {},
   "source": [
    "- **Add parameters**"
   ]
  },
  {
   "cell_type": "code",
   "execution_count": null,
   "metadata": {},
   "outputs": [],
   "source": [
    "def greet(name='abdullah'):\n",
    "    print(\"Hello,\", name)\n",
    "\n",
    "greet(\"Ali\")\n",
    "greet(\"Omar\")\n",
    "greet()"
   ]
  },
  {
   "cell_type": "code",
   "execution_count": null,
   "metadata": {},
   "outputs": [],
   "source": [
    "def greet(name=\"world\"):\n",
    "    print(\"Hello,\", name)\n",
    "\n",
    "greet()  # Output: Hello, world!\n",
    "greet(\"Hello\")  # Output: Hello, Alice\n"
   ]
  },
  {
   "cell_type": "code",
   "execution_count": null,
   "metadata": {},
   "outputs": [],
   "source": [
    "def say_hello():\n",
    "    print(\"Hello!\")"
   ]
  },
  {
   "cell_type": "code",
   "execution_count": null,
   "metadata": {},
   "outputs": [],
   "source": [
    "h = say_hello()"
   ]
  },
  {
   "cell_type": "code",
   "execution_count": null,
   "metadata": {},
   "outputs": [],
   "source": [
    "h"
   ]
  },
  {
   "cell_type": "code",
   "execution_count": null,
   "metadata": {},
   "outputs": [],
   "source": [
    "s = \"hd,mvc;smvsd;\"\n",
    "l = len(s)"
   ]
  },
  {
   "cell_type": "code",
   "execution_count": null,
   "metadata": {},
   "outputs": [],
   "source": [
    "l"
   ]
  },
  {
   "cell_type": "code",
   "execution_count": null,
   "metadata": {},
   "outputs": [],
   "source": [
    "h"
   ]
  },
  {
   "cell_type": "code",
   "execution_count": null,
   "metadata": {},
   "outputs": [],
   "source": []
  },
  {
   "cell_type": "code",
   "execution_count": null,
   "metadata": {},
   "outputs": [],
   "source": []
  },
  {
   "cell_type": "code",
   "execution_count": 13,
   "metadata": {},
   "outputs": [],
   "source": [
    "def le(x):\n",
    "    m = 0.2\n",
    "    b = 1\n",
    "    return m*x + b"
   ]
  },
  {
   "cell_type": "code",
   "execution_count": 14,
   "metadata": {},
   "outputs": [
    {
     "data": {
      "text/plain": [
       "6.0"
      ]
     },
     "execution_count": 14,
     "metadata": {},
     "output_type": "execute_result"
    }
   ],
   "source": [
    "le(25)"
   ]
  },
  {
   "cell_type": "code",
   "execution_count": 19,
   "metadata": {},
   "outputs": [],
   "source": [
    "def merge_name(fname, lname):\n",
    "    return fname + \" \" + lname"
   ]
  },
  {
   "cell_type": "code",
   "execution_count": 20,
   "metadata": {},
   "outputs": [
    {
     "data": {
      "text/plain": [
       "'ahmed ali'"
      ]
     },
     "execution_count": 20,
     "metadata": {},
     "output_type": "execute_result"
    }
   ],
   "source": [
    "merge_name('ahmed', 'ali')"
   ]
  },
  {
   "cell_type": "code",
   "execution_count": 21,
   "metadata": {},
   "outputs": [],
   "source": [
    "def concat(fname, lname):\n",
    "    data = {}\n",
    "    for f in range(len(fname)):\n",
    "        data[fname[f]] = lname[f]\n",
    "    return data"
   ]
  },
  {
   "cell_type": "code",
   "execution_count": 22,
   "metadata": {},
   "outputs": [
    {
     "data": {
      "text/plain": [
       "{'ahmed': 'omar', 'omar': 'amr', 'amr': 'ali', 'ali': 'ahmed'}"
      ]
     },
     "execution_count": 22,
     "metadata": {},
     "output_type": "execute_result"
    }
   ],
   "source": [
    "fnames = ['ahmed', 'omar', 'amr', 'ali']\n",
    "lnames = ['omar', 'amr', 'ali', 'ahmed']\n",
    "\n",
    "concat(fnames, lnames)"
   ]
  },
  {
   "cell_type": "code",
   "execution_count": null,
   "metadata": {},
   "outputs": [],
   "source": []
  },
  {
   "cell_type": "code",
   "execution_count": null,
   "metadata": {},
   "outputs": [],
   "source": []
  },
  {
   "cell_type": "code",
   "execution_count": null,
   "metadata": {},
   "outputs": [],
   "source": []
  },
  {
   "cell_type": "code",
   "execution_count": null,
   "metadata": {},
   "outputs": [],
   "source": [
    "name = merge_name('ahmed', 'omar')"
   ]
  },
  {
   "cell_type": "code",
   "execution_count": null,
   "metadata": {},
   "outputs": [],
   "source": [
    "name"
   ]
  },
  {
   "cell_type": "code",
   "execution_count": null,
   "metadata": {},
   "outputs": [],
   "source": [
    "e = le(15)"
   ]
  },
  {
   "cell_type": "code",
   "execution_count": null,
   "metadata": {},
   "outputs": [],
   "source": [
    "e"
   ]
  },
  {
   "cell_type": "code",
   "execution_count": null,
   "metadata": {},
   "outputs": [],
   "source": [
    "l = [3, 5, 2, 8, 7, 9]\n",
    "for i in l:\n",
    "    print(le(i))\n"
   ]
  },
  {
   "cell_type": "markdown",
   "metadata": {},
   "source": [
    "- **Add list as a parameter**"
   ]
  },
  {
   "cell_type": "code",
   "execution_count": null,
   "metadata": {},
   "outputs": [],
   "source": [
    "x = 0\n",
    "x += 1\n",
    "x"
   ]
  },
  {
   "cell_type": "code",
   "execution_count": null,
   "metadata": {},
   "outputs": [],
   "source": [
    "def sum_values(args): # [1, 3, 2, 5, 6]\n",
    "    total = 0\n",
    "    for num in args:\n",
    "        total = total + num\n",
    "\n",
    "    return total"
   ]
  },
  {
   "cell_type": "code",
   "execution_count": null,
   "metadata": {},
   "outputs": [],
   "source": [
    "l = (1, 3, 2, 5, 6)\n",
    "sum_values(l)\n",
    "l"
   ]
  },
  {
   "cell_type": "code",
   "execution_count": null,
   "metadata": {},
   "outputs": [],
   "source": [
    "r"
   ]
  },
  {
   "cell_type": "code",
   "execution_count": null,
   "metadata": {},
   "outputs": [],
   "source": [
    "sum(l)"
   ]
  },
  {
   "cell_type": "code",
   "execution_count": null,
   "metadata": {},
   "outputs": [],
   "source": []
  },
  {
   "cell_type": "code",
   "execution_count": null,
   "metadata": {},
   "outputs": [],
   "source": [
    "def sum_values(*args):\n",
    "    total = 0\n",
    "    for num in args:\n",
    "        total += num\n",
    "    return total\n",
    "\n",
    "print(\"Sum:\", sum_values(1, 2, 3, 4, 5))\n"
   ]
  },
  {
   "cell_type": "markdown",
   "metadata": {},
   "source": [
    "- **Add a tuple as a parameter**"
   ]
  },
  {
   "cell_type": "code",
   "execution_count": null,
   "metadata": {},
   "outputs": [],
   "source": [
    "def print_tuple(my_tuple):\n",
    "    for item in my_tuple:\n",
    "        print(item)\n",
    "\n",
    "# Example usage\n",
    "my_tuple = (1, 2, 3, 4, 5)\n",
    "print_tuple(my_tuple)\n"
   ]
  },
  {
   "cell_type": "code",
   "execution_count": null,
   "metadata": {},
   "outputs": [],
   "source": [
    "def print_tuple(my_tuple):\n",
    "    for item in my_tuple:\n",
    "        print(item)\n",
    "\n",
    "# Example usage\n",
    "my_tuple = (1, 2, 3, 4, 5)\n",
    "print_tuple(my_tuple)\n"
   ]
  },
  {
   "cell_type": "markdown",
   "metadata": {},
   "source": [
    "- **Add dictionary as a parameter**"
   ]
  },
  {
   "cell_type": "code",
   "execution_count": null,
   "metadata": {},
   "outputs": [],
   "source": [
    "def print_dictionary(my_dict):\n",
    "    for key, value in my_dict.items():\n",
    "        print(key, \":\", value)\n",
    "\n",
    "# Example usage\n",
    "my_dict = {'a': 1, 'b': 2, 'c': 3}\n",
    "print_dictionary(my_dict)\n"
   ]
  },
  {
   "cell_type": "code",
   "execution_count": null,
   "metadata": {},
   "outputs": [],
   "source": [
    "try:\n",
    "    x = 5\n",
    "    print(x / 0)\n",
    "except:\n",
    "    print(\"Not allowed\")"
   ]
  },
  {
   "cell_type": "code",
   "execution_count": null,
   "metadata": {},
   "outputs": [],
   "source": [
    "num1 = int(input(\"Enter a number: \"))\n",
    "num2 = int(input(\"Enter another number: \"))\n",
    "result = num1 / num2\n",
    "print(\"Result:\", result)"
   ]
  },
  {
   "cell_type": "code",
   "execution_count": null,
   "metadata": {},
   "outputs": [],
   "source": [
    "num1 = int(input(\"Enter a number: \"))   # ahmed\n",
    "num2 = int(input(\"Enter another number: \"))\n",
    "result = num1 / num2\n",
    "print(\"Result:\", result)"
   ]
  },
  {
   "cell_type": "code",
   "execution_count": null,
   "metadata": {},
   "outputs": [],
   "source": [
    "try:\n",
    "    num1 = int(input(\"Enter a number: \"))   # ahmed\n",
    "    num2 = int(input(\"Enter another number: \"))\n",
    "    result = num1 / num2\n",
    "    print(\"Result:\", result)\n",
    "except ZeroDivisionError:\n",
    "    print(\"Error: Cannot divide by zero.\")\n",
    "except ValueError:\n",
    "    print(\"Error: Invalid input. Please enter a valid number.\")\n",
    "except Exception as e:\n",
    "    print(f\"{e} error occurred.\")"
   ]
  },
  {
   "cell_type": "code",
   "execution_count": null,
   "metadata": {},
   "outputs": [],
   "source": []
  },
  {
   "cell_type": "markdown",
   "metadata": {},
   "source": [
    "- input\n",
    "- output (print)\n",
    "- variables\n",
    "- datatype\n",
    "    - string\n",
    "    - integer\n",
    "    - float\n",
    "    - list\n",
    "    - tuple\n",
    "    - set\n",
    "    - dictionary\n",
    "    - boolean\n",
    "- if..elif..else\n",
    "- for loop\n",
    "- while loop\n",
    "- functions\n",
    "- try..except"
   ]
  },
  {
   "cell_type": "code",
   "execution_count": null,
   "metadata": {},
   "outputs": [],
   "source": [
    "try:\n",
    "    print(5 / 0)\n",
    "except:\n",
    "    print('Error, You can\\'t divide by zero')"
   ]
  },
  {
   "cell_type": "markdown",
   "metadata": {},
   "source": []
  }
 ],
 "metadata": {
  "kernelspec": {
   "display_name": "Python 3",
   "language": "python",
   "name": "python3"
  },
  "language_info": {
   "codemirror_mode": {
    "name": "ipython",
    "version": 3
   },
   "file_extension": ".py",
   "mimetype": "text/x-python",
   "name": "python",
   "nbconvert_exporter": "python",
   "pygments_lexer": "ipython3",
   "version": "3.12.3"
  }
 },
 "nbformat": 4,
 "nbformat_minor": 2
}
